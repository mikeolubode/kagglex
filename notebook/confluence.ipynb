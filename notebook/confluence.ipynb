{
 "cells": [
  {
   "cell_type": "code",
   "execution_count": 10,
   "metadata": {},
   "outputs": [],
   "source": [
    "from atlassian import Confluence"
   ]
  },
  {
   "cell_type": "code",
   "execution_count": 30,
   "metadata": {},
   "outputs": [],
   "source": [
    "import requests\n",
    "\n",
    "# Set your Confluence URL, email, and API token\n",
    "confluence_url = \"https://mikesofts.atlassian.net/\"\n",
    "email = os.environ['EMAIL']\n",
    "api_token = os.environ['API_TOKEN']\n",
    "space_key = \"~614914d4071141006ab46038\"\n",
    "\n",
    "# Define the Confluence REST API endpoint for getting pages\n",
    "endpoint = f\"{confluence_url}/wiki/rest/api/content?spaceKey={space_key}&expand=version,body.view,ancestors\"\n",
    "endpoint = f\"{confluence_url}/wiki/rest/api/content/262359\"\n",
    "\n",
    "\n",
    "# Set headers for authentication\n",
    "headers = {\n",
    "    \"Accept\": \"application/json\",\n",
    "    \"Content-Type\": \"application/json\",\n",
    "}\n",
    "\n",
    "# Provide your email and API token for basic authentication\n",
    "auth = (email, api_token)\n",
    "\n",
    "# Initialize a list to store all the pages\n",
    "all_pages = []\n",
    "\n",
    "# Paginate through the results until there are no more pages\n",
    "while True:\n",
    "    response = requests.get(endpoint, headers=headers, auth=auth)\n",
    "    response_json = response.json()\n",
    "    if \"results\" in response_json:\n",
    "        all_pages.extend(response_json[\"results\"])\n",
    "    else:\n",
    "        break\n",
    "    if \"next\" in response_json[\"_links\"]:\n",
    "        endpoint = response_json[\"_links\"][\"next\"]\n",
    "    else:\n",
    "        break\n",
    "\n",
    "# Print the titles of all retrieved pages\n",
    "for page in all_pages:\n",
    "    print(page[\"title\"])\n"
   ]
  },
  {
   "cell_type": "code",
   "execution_count": 35,
   "metadata": {},
   "outputs": [
    {
     "data": {
      "text/plain": [
       "'baby mamba'"
      ]
     },
     "execution_count": 35,
     "metadata": {},
     "output_type": "execute_result"
    }
   ],
   "source": [
    "response.json()['title']"
   ]
  },
  {
   "cell_type": "code",
   "execution_count": null,
   "metadata": {},
   "outputs": [],
   "source": []
  }
 ],
 "metadata": {
  "kernelspec": {
   "display_name": "kagglex",
   "language": "python",
   "name": "python3"
  },
  "language_info": {
   "codemirror_mode": {
    "name": "ipython",
    "version": 3
   },
   "file_extension": ".py",
   "mimetype": "text/x-python",
   "name": "python",
   "nbconvert_exporter": "python",
   "pygments_lexer": "ipython3",
   "version": "3.10.12"
  },
  "orig_nbformat": 4
 },
 "nbformat": 4,
 "nbformat_minor": 2
}
