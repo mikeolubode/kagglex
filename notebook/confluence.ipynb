{
 "cells": [
  {
   "cell_type": "code",
   "execution_count": 1,
   "metadata": {},
   "outputs": [
    {
     "data": {
      "text/plain": [
       "True"
      ]
     },
     "execution_count": 1,
     "metadata": {},
     "output_type": "execute_result"
    }
   ],
   "source": [
    "import os\n",
    "import requests\n",
    "from dotenv import load_dotenv\n",
    "from langchain.document_loaders import ConfluenceLoader\n",
    "from langchain.text_splitter import RecursiveCharacterTextSplitter\n",
    "from langchain.vectorstores import Chroma\n",
    "from langchain.embeddings import HuggingFaceEmbeddings, GooglePalmEmbeddings\n",
    "from langchain.chains.question_answering import load_qa_chain\n",
    "from langchain.llms import GooglePalm\n",
    "from langchain.chains import ConversationalRetrievalChain\n",
    "\n",
    "load_dotenv()"
   ]
  },
  {
   "cell_type": "code",
   "execution_count": 2,
   "metadata": {},
   "outputs": [],
   "source": [
    "# Set your Confluence URL, email, and API token\n",
    "confluence_url = \"https://mikesofts.atlassian.net/\"\n",
    "email = os.environ['EMAIL']\n"
   ]
  },
  {
   "cell_type": "code",
   "execution_count": 3,
   "metadata": {},
   "outputs": [],
   "source": [
    "CONFLUENCE_API_TOKEN = os.environ['CONFLUENCE_API_TOKEN']\n",
    "GOOGLE_PALM_API_KEY = os.environ['GOOGLE_PALM_API_KEY']\n",
    "# Define your Confluence API URL\n",
    "base_url = \"https://mikesofts.atlassian.net/wiki/rest/api\"\n",
    "\n",
    "# Create a session for authentication\n",
    "session = requests.Session()\n",
    "session.auth = (email, CONFLUENCE_API_TOKEN)"
   ]
  },
  {
   "cell_type": "code",
   "execution_count": 4,
   "metadata": {},
   "outputs": [],
   "source": [
    "## get documents from confluence\n",
    "loader = ConfluenceLoader(\n",
    "    url=f\"{confluence_url}wiki\", username=email, api_key=CONFLUENCE_API_TOKEN, \n",
    ")\n",
    "\n",
    "documents = loader.load(space_key=\"~614914d4071141006ab46038\", limit=50)"
   ]
  },
  {
   "cell_type": "code",
   "execution_count": 5,
   "metadata": {},
   "outputs": [],
   "source": [
    "llm = GooglePalm(google_api_key=os.environ[\"GOOGLE_PALM_API_KEY\"], temperature = 0.1)\n",
    "palm_embeddings = GooglePalmEmbeddings(google_api_key=os.environ[\"GOOGLE_PALM_API_KEY\"])\n",
    "hf_embeddings = HuggingFaceEmbeddings(model_name=\"all-MiniLM-L6-v2\")"
   ]
  },
  {
   "cell_type": "code",
   "execution_count": 7,
   "metadata": {},
   "outputs": [
    {
     "name": "stdout",
     "output_type": "stream",
     "text": [
      "The folder 'chroma_db' does not exist in the current working directory. \n",
      " Therefore new embeddings will be created\n"
     ]
    }
   ],
   "source": [
    "## split documents\n",
    "text_splitter = RecursiveCharacterTextSplitter(\n",
    "    chunk_size = 1000,\n",
    "    chunk_overlap  = 100,\n",
    "    length_function = len,\n",
    "    add_start_index = True,\n",
    "    separators=[\"\\n\\n\", \"\\n\", \"(?<=\\. )\", \" \", \"\"]\n",
    ")\n",
    "texts = text_splitter.split_documents(documents)\n",
    "\n",
    "persist_directory = \"chroma_db\"\n",
    "\n",
    "# Check if the folder exists in the current working directory\n",
    "if os.path.exists(persist_directory) and os.path.isdir(persist_directory):\n",
    "    print(f\"The folder '{persist_directory}' exists in the current working directory. \\n Therefore embeddings were loaded from disk\")\n",
    "    cdb = Chroma(embedding_function=hf_embeddings, persist_directory=persist_directory)\n",
    "else:\n",
    "    print(f\"The folder '{persist_directory}' does not exist in the current working directory. \\n Therefore new embeddings will be created\")\n",
    "    cdb = Chroma.from_documents(texts, embedding=hf_embeddings, persist_directory=persist_directory)\n"
   ]
  },
  {
   "cell_type": "code",
   "execution_count": 10,
   "metadata": {},
   "outputs": [
    {
     "name": "stdout",
     "output_type": "stream",
     "text": [
      "\u001b[0;31mSignature:\u001b[0m \u001b[0mcdb\u001b[0m\u001b[0;34m.\u001b[0m\u001b[0mas_retriever\u001b[0m\u001b[0;34m(\u001b[0m\u001b[0;34m**\u001b[0m\u001b[0mkwargs\u001b[0m\u001b[0;34m:\u001b[0m \u001b[0;34m'Any'\u001b[0m\u001b[0;34m)\u001b[0m \u001b[0;34m->\u001b[0m \u001b[0;34m'VectorStoreRetriever'\u001b[0m\u001b[0;34m\u001b[0m\u001b[0;34m\u001b[0m\u001b[0m\n",
      "\u001b[0;31mDocstring:\u001b[0m\n",
      "Return VectorStoreRetriever initialized from this VectorStore.\n",
      "\n",
      "Args:\n",
      "    search_type (Optional[str]): Defines the type of search that\n",
      "        the Retriever should perform.\n",
      "        Can be \"similarity\" (default), \"mmr\", or\n",
      "        \"similarity_score_threshold\".\n",
      "    search_kwargs (Optional[Dict]): Keyword arguments to pass to the\n",
      "        search function. Can include things like:\n",
      "            k: Amount of documents to return (Default: 4)\n",
      "            score_threshold: Minimum relevance threshold\n",
      "                for similarity_score_threshold\n",
      "            fetch_k: Amount of documents to pass to MMR algorithm (Default: 20)\n",
      "            lambda_mult: Diversity of results returned by MMR;\n",
      "                1 for minimum diversity and 0 for maximum. (Default: 0.5)\n",
      "            filter: Filter by document metadata\n",
      "\n",
      "Returns:\n",
      "    VectorStoreRetriever: Retriever class for VectorStore.\n",
      "\n",
      "Examples:\n",
      "\n",
      ".. code-block:: python\n",
      "\n",
      "    # Retrieve more documents with higher diversity\n",
      "    # Useful if your dataset has many similar documents\n",
      "    docsearch.as_retriever(\n",
      "        search_type=\"mmr\",\n",
      "        search_kwargs={'k': 6, 'lambda_mult': 0.25}\n",
      "    )\n",
      "\n",
      "    # Fetch more documents for the MMR algorithm to consider\n",
      "    # But only return the top 5\n",
      "    docsearch.as_retriever(\n",
      "        search_type=\"mmr\",\n",
      "        search_kwargs={'k': 5, 'fetch_k': 50}\n",
      "    )\n",
      "\n",
      "    # Only retrieve documents that have a relevance score\n",
      "    # Above a certain threshold\n",
      "    docsearch.as_retriever(\n",
      "        search_type=\"similarity_score_threshold\",\n",
      "        search_kwargs={'score_threshold': 0.8}\n",
      "    )\n",
      "\n",
      "    # Only get the single most similar document from the dataset\n",
      "    docsearch.as_retriever(search_kwargs={'k': 1})\n",
      "\n",
      "    # Use a filter to only retrieve documents from a specific paper\n",
      "    docsearch.as_retriever(\n",
      "        search_kwargs={'filter': {'paper_title':'GPT-4 Technical Report'}}\n",
      "    )\n",
      "\u001b[0;31mFile:\u001b[0m      ~/projects/kagglex/.venv/lib/python3.10/site-packages/langchain/vectorstores/base.py\n",
      "\u001b[0;31mType:\u001b[0m      method"
     ]
    }
   ],
   "source": [
    "cdb.as_retriever?"
   ]
  },
  {
   "cell_type": "code",
   "execution_count": 18,
   "metadata": {},
   "outputs": [],
   "source": [
    "qa_chain = ConversationalRetrievalChain.from_llm(llm,\n",
    "                                                  retriever=cdb.as_retriever(),\n",
    "                                                  verbose=False,return_source_documents=True)\n",
    "chat_history=[]"
   ]
  },
  {
   "cell_type": "code",
   "execution_count": 19,
   "metadata": {},
   "outputs": [
    {
     "name": "stdout",
     "output_type": "stream",
     "text": [
      "Answer: lack of domain knowledge\n"
     ]
    }
   ],
   "source": [
    "query=\"what are some barriers to becoming proficient in data science\"\n",
    "result = qa_chain({\"question\":query, \"chat_history\":chat_history})\n",
    "print(f\"Answer: \" + result[\"answer\"])\n",
    "chat_history.append((query, result[\"answer\"]))"
   ]
  },
  {
   "cell_type": "code",
   "execution_count": null,
   "metadata": {},
   "outputs": [],
   "source": []
  }
 ],
 "metadata": {
  "kernelspec": {
   "display_name": "kagglex",
   "language": "python",
   "name": "python3"
  },
  "language_info": {
   "codemirror_mode": {
    "name": "ipython",
    "version": 3
   },
   "file_extension": ".py",
   "mimetype": "text/x-python",
   "name": "python",
   "nbconvert_exporter": "python",
   "pygments_lexer": "ipython3",
   "version": "3.10.12"
  },
  "orig_nbformat": 4
 },
 "nbformat": 4,
 "nbformat_minor": 2
}
