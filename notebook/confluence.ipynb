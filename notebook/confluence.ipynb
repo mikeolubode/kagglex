{
 "cells": [
  {
   "cell_type": "code",
   "execution_count": 2,
   "metadata": {},
   "outputs": [
    {
     "data": {
      "text/plain": [
       "True"
      ]
     },
     "execution_count": 2,
     "metadata": {},
     "output_type": "execute_result"
    }
   ],
   "source": [
    "import os\n",
    "import requests\n",
    "from dotenv import load_dotenv\n",
    "from langchain.document_loaders import ConfluenceLoader\n",
    "from langchain.text_splitter import RecursiveCharacterTextSplitter\n",
    "from langchain.vectorstores import Chroma\n",
    "from langchain.embeddings import HuggingFaceEmbeddings, GooglePalmEmbeddings\n",
    "from langchain.chains.question_answering import load_qa_chain\n",
    "from langchain.llms import GooglePalm\n",
    "from langchain.chains import ConversationalRetrievalChain\n",
    "\n",
    "load_dotenv()"
   ]
  },
  {
   "cell_type": "code",
   "execution_count": 6,
   "metadata": {},
   "outputs": [],
   "source": [
    "# Set your Confluence URL, email, and API token\n",
    "confluence_url = \"https://mikesofts.atlassian.net/\"\n",
    "email = os.environ['EMAIL']\n"
   ]
  },
  {
   "cell_type": "code",
   "execution_count": 7,
   "metadata": {},
   "outputs": [],
   "source": [
    "CONFLUENCE_API_TOKEN = os.environ['CONFLUENCE_API_TOKEN']\n",
    "GOOGLE_PALM_API_KEY = os.environ['GOOGLE_PALM_API_KEY']\n",
    "# Define your Confluence API URL\n",
    "base_url = \"https://mikesofts.atlassian.net/wiki/rest/api\"\n",
    "\n",
    "# Create a session for authentication\n",
    "session = requests.Session()\n",
    "session.auth = (email, CONFLUENCE_API_TOKEN)"
   ]
  },
  {
   "cell_type": "code",
   "execution_count": 8,
   "metadata": {},
   "outputs": [],
   "source": [
    "## get documents from confluence\n",
    "loader = ConfluenceLoader(\n",
    "    url=f\"{confluence_url}wiki\", username=email, api_key=CONFLUENCE_API_TOKEN, \n",
    ")\n",
    "\n",
    "documents = loader.load(space_key=\"~614914d4071141006ab46038\", limit=50)"
   ]
  },
  {
   "cell_type": "code",
   "execution_count": 9,
   "metadata": {},
   "outputs": [],
   "source": [
    "llm = GooglePalm(google_api_key=os.environ[\"GOOGLE_PALM_API_KEY\"], temperature = 0.1)\n",
    "palm_embeddings = GooglePalmEmbeddings(google_api_key=os.environ[\"GOOGLE_PALM_API_KEY\"])\n",
    "hf_embeddings = HuggingFaceEmbeddings(model_name=\"all-MiniLM-L6-v2\")"
   ]
  },
  {
   "cell_type": "code",
   "execution_count": 10,
   "metadata": {},
   "outputs": [
    {
     "name": "stdout",
     "output_type": "stream",
     "text": [
      "The folder 'chroma_db' does not exist in the current working directory. \n",
      " Therefore new embeddings will be created\n"
     ]
    }
   ],
   "source": [
    "## split documents\n",
    "text_splitter = RecursiveCharacterTextSplitter(\n",
    "    chunk_size = 1000,\n",
    "    chunk_overlap  = 100,\n",
    "    length_function = len,\n",
    "    add_start_index = True,\n",
    "    separators=[\" \", \"\\n\", '.', \",\"]\n",
    ")\n",
    "texts = text_splitter.split_documents(documents)\n",
    "\n",
    "persist_directory = \"chroma_db\"\n",
    "\n",
    "# Check if the folder exists in the current working directory\n",
    "if os.path.exists(persist_directory) and os.path.isdir(persist_directory):\n",
    "    print(f\"The folder '{persist_directory}' exists in the current working directory. \\n Therefore embeddings were loaded from disk\")\n",
    "    cdb = Chroma(embedding_function=hf_embeddings, persist_directory=persist_directory)\n",
    "else:\n",
    "    print(f\"The folder '{persist_directory}' does not exist in the current working directory. \\n Therefore new embeddings will be created\")\n",
    "    cdb = Chroma.from_documents(texts, embedding=hf_embeddings, persist_directory=persist_directory)\n"
   ]
  },
  {
   "cell_type": "code",
   "execution_count": 14,
   "metadata": {},
   "outputs": [],
   "source": [
    "qa_chain = ConversationalRetrievalChain.from_llm(llm, retriever=cdb.as_retriever(),verbose=True,return_source_documents=True)\n",
    "chat_history=[]"
   ]
  },
  {
   "cell_type": "code",
   "execution_count": 15,
   "metadata": {},
   "outputs": [
    {
     "name": "stdout",
     "output_type": "stream",
     "text": [
      "\n",
      "\n",
      "\u001b[1m> Entering new StuffDocumentsChain chain...\u001b[0m\n",
      "\n",
      "\n",
      "\u001b[1m> Entering new LLMChain chain...\u001b[0m\n",
      "Prompt after formatting:\n",
      "\u001b[32;1m\u001b[1;3mUse the following pieces of context to answer the question at the end. If you don't know the answer, just say that you don't know, don't try to make up an answer.\n",
      "\n",
      "Data science is an interdisciplinary field [10] focused on extracting knowledge from typically large data sets and applying the knowledge and insights from that data to solve problems in a wide range of application domains. The field encompasses preparing data for analysis, formulating data science problems, analyzing data, developing data-driven solutions, and presenting findings to inform high-level decisions in a broad range of application domains. As such, it incorporates skills from computer science, statistics, information science, mathematics, data visualization , information visualization , data sonification , data integration , graphic design , complex systems , communication and business . [11] [12] Statistician Nathan Yau , drawing on Ben Fry , also links data science to human–computer interaction : users should be able to intuitively control and explore data. [13] [14] In 2015, the American Statistical Association identified database management, statistics and machine\n",
      "\n",
      "[38] [39] While data analysis focuses on extracting insights from existing data, data science goes beyond that by incorporating the development and implementation of predictive models to make informed decisions. Data scientists are often responsible for collecting and cleaning data, selecting appropriate analytical techniques, and deploying models in real-world scenarios. They work at the intersection of mathematics, computer science , and domain expertise to solve complex problems and uncover hidden patterns in large datasets. [38] Despite these differences, data science and data analysis are closely related fields and often require similar skill sets. Both fields require a solid foundation in statistics, programming , and data visualization , as well as the ability to communicate findings effectively to both technical and non-technical audiences. Moreover, both fields benefit from critical thinking and domain knowledge , as understanding the context and nuances of the data is\n",
      "\n",
      "professor David Donoho writes that data science is not distinguished from statistics by the size of datasets or use of computing and that many graduate programs misleadingly advertise their analytics and statistics training as the essence of a data-science program. He describes data science as an applied field growing out of traditional statistics\n",
      "\n",
      "2015, the American Statistical Association identified database management, statistics and machine learning , and distributed and parallel systems as the three emerging foundational professional communities. [15] Relationship to statistics Many statisticians, including Nate Silver , have argued that data science is not a new field, but rather another name for statistics. [16] Others argue that data science is distinct from statistics because it focuses on problems and techniques unique to digital data. [17] Vasant Dhar writes that statistics emphasizes quantitative data and description. In contrast, data science deals with quantitative and qualitative data (e.g., from images, text, sensors, transactions, customer information, etc.) and emphasizes prediction and action. [18] Andrew Gelman of Columbia University has described statistics as a non-essential part of data science. [19] Stanford professor David Donoho writes that data science is not distinguished from statistics by the size\n",
      "\n",
      "Question: what are some barriers to becoming proficient in data science\n",
      "Helpful Answer:\u001b[0m\n",
      "\n",
      "\u001b[1m> Finished chain.\u001b[0m\n",
      "\n",
      "\u001b[1m> Finished chain.\u001b[0m\n",
      "Answer: lack of domain knowledge\n"
     ]
    }
   ],
   "source": [
    "query=\"what are some barriers to becoming proficient in data science\"\n",
    "result = qa_chain({\"question\":query, \"chat_history\":chat_history})\n",
    "print(f\"Answer: \" + result[\"answer\"])\n",
    "chat_history.append((query, result[\"answer\"]))"
   ]
  }
 ],
 "metadata": {
  "kernelspec": {
   "display_name": "kagglex",
   "language": "python",
   "name": "python3"
  },
  "language_info": {
   "codemirror_mode": {
    "name": "ipython",
    "version": 3
   },
   "file_extension": ".py",
   "mimetype": "text/x-python",
   "name": "python",
   "nbconvert_exporter": "python",
   "pygments_lexer": "ipython3",
   "version": "3.10.12"
  },
  "orig_nbformat": 4
 },
 "nbformat": 4,
 "nbformat_minor": 2
}
