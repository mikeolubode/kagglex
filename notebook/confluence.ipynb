{
 "cells": [
  {
   "cell_type": "code",
   "execution_count": 14,
   "metadata": {},
   "outputs": [
    {
     "data": {
      "text/plain": [
       "True"
      ]
     },
     "execution_count": 14,
     "metadata": {},
     "output_type": "execute_result"
    }
   ],
   "source": [
    "import os\n",
    "import requests\n",
    "from dotenv import load_dotenv\n",
    "from langchain.document_loaders import ConfluenceLoader\n",
    "from langchain.text_splitter import RecursiveCharacterTextSplitter\n",
    "from langchain.vectorstores import Chroma\n",
    "from langchain.embeddings import HuggingFaceEmbeddings, GooglePalmEmbeddings\n",
    "from langchain.chains.question_answering import load_qa_chain\n",
    "from langchain.llms import GooglePalm\n",
    "from langchain.chains import ConversationalRetrievalChain\n",
    "\n",
    "load_dotenv()"
   ]
  },
  {
   "cell_type": "code",
   "execution_count": 9,
   "metadata": {},
   "outputs": [],
   "source": [
    "# Set your Confluence URL, email, and API token\n",
    "confluence_url = \"https://mikesofts.atlassian.net/\"\n",
    "email = os.environ['EMAIL']\n",
    "CONFLUENCE_API_TOKEN = os.environ['CONFLUENCE_API_TOKEN']\n",
    "GOOGLE_PALM_API_KEY = os.environ['GOOGLE_PALM_API_KEY']\n",
    "# Define your Confluence API URL\n",
    "base_url = \"https://mikesofts.atlassian.net/wiki/rest/api\"\n",
    "\n",
    "# Create a session for authentication\n",
    "session = requests.Session()\n",
    "session.auth = (email, CONFLUENCE_API_TOKEN)"
   ]
  },
  {
   "cell_type": "code",
   "execution_count": 10,
   "metadata": {},
   "outputs": [],
   "source": [
    "## get documents from confluence\n",
    "loader = ConfluenceLoader(\n",
    "    url=f\"{confluence_url}wiki\", username=email, api_key=CONFLUENCE_API_TOKEN, \n",
    ")\n",
    "\n",
    "documents = loader.load(space_key=\"~614914d4071141006ab46038\", limit=50)"
   ]
  },
  {
   "cell_type": "code",
   "execution_count": 15,
   "metadata": {},
   "outputs": [],
   "source": [
    "llm = GooglePalm(google_api_key=os.environ[\"GOOGLE_PALM_API_KEY\"], temperature = 0.1)\n",
    "embeddings = GooglePalmEmbeddings(google_api_key=os.environ[\"GOOGLE_PALM_API_KEY\"])\n"
   ]
  },
  {
   "cell_type": "code",
   "execution_count": 32,
   "metadata": {},
   "outputs": [
    {
     "name": "stdout",
     "output_type": "stream",
     "text": [
      "The folder 'chroma_db' does not exist in the current working directory. \n",
      " Therefore new embeddings will be created\n"
     ]
    }
   ],
   "source": [
    "## split documents\n",
    "text_splitter = RecursiveCharacterTextSplitter(\n",
    "    chunk_size = 1000,\n",
    "    chunk_overlap  = 100,\n",
    "    length_function = len,\n",
    "    add_start_index = True,\n",
    "    separators=[\" \", \"\\n\", '.', \",\"]\n",
    ")\n",
    "texts = text_splitter.split_documents(documents)\n",
    "\n",
    "# Get embeddings.\n",
    "# embeddings = HuggingFaceEmbeddings(model_name=\"all-MiniLM-L6-v2\")\n",
    "\n",
    "import os\n",
    "\n",
    "persist_directory = \"chroma_db\"\n",
    "\n",
    "# Check if the folder exists in the current working directory\n",
    "if os.path.exists(persist_directory) and os.path.isdir(persist_directory):\n",
    "    print(f\"The folder '{persist_directory}' exists in the current working directory. \\n Therefore embeddings were loaded from disk\")\n",
    "    cdb = Chroma(embedding_function=embeddings, persist_directory=persist_directory)\n",
    "else:\n",
    "    print(f\"The folder '{persist_directory}' does not exist in the current working directory. \\n Therefore new embeddings will be created\")\n",
    "    cdb = Chroma.from_documents(texts, embedding=embeddings, persist_directory=persist_directory)\n"
   ]
  },
  {
   "cell_type": "code",
   "execution_count": 43,
   "metadata": {},
   "outputs": [],
   "source": [
    "qa_chain = ConversationalRetrievalChain.from_llm(llm, retriever=cdb.as_retriever(),verbose=False,return_source_documents=True)\n",
    "chat_history=[]"
   ]
  },
  {
   "cell_type": "code",
   "execution_count": 49,
   "metadata": {},
   "outputs": [
    {
     "name": "stdout",
     "output_type": "stream",
     "text": [
      "Answer: The barriers to becoming proficient in data science include:\n",
      "\n",
      "* **Lack of technical skills.** Data science requires a strong foundation in mathematics, statistics, programming, and data visualization. Many people who are interested in data science do not have the necessary technical skills to succeed in the field.\n",
      "* **Lack of domain knowledge.** Data science is often applied to real-world problems, which means that data scientists need to have a strong understanding of the domain they are working in. This can be a challenge for people who are new to the field.\n",
      "* **Lack of experience.** Data science is a relatively new field, and there are not many experienced data scientists available. This can make it difficult for people who are new to the field to find jobs.\n",
      "* **Lack of access to data.** Data science requires access to large datasets in order to train models and make predictions. This can be a challenge for people who do not have access to large datasets.\n",
      "* **Lack of support.** Data science can be a challenging field, and it is important to have support from mentors and colleagues. This can be difficult for people who are working in isolation.\n"
     ]
    }
   ],
   "source": [
    "query=\"what are some barriers to becoming proficient in data science\"\n",
    "result = qa_chain({\"question\":query, \"chat_history\":chat_history})\n",
    "print(f\"Answer: \" + result[\"answer\"])\n",
    "chat_history.append((query, result[\"answer\"]))"
   ]
  },
  {
   "cell_type": "code",
   "execution_count": 45,
   "metadata": {},
   "outputs": [
    {
     "data": {
      "text/plain": [
       "{'question': 'what are some concerns of AI',\n",
       " 'chat_history': [('what are some concerns of AI',\n",
       "   'the goals of the field: to build machines that can solve problems using intelligence.')],\n",
       " 'answer': 'Existential risk, weaponization, technological unemployment, and regulation.',\n",
       " 'source_documents': [Document(page_content='of the human race \". [268] According to the philosopher Nick Bostrom , for almost any goals that a sufficiently intelligent AI may have, it is instrumentally incentivized to protect itself from being shut down and to acquire more resources, as intermediary steps to better achieve these goals. Sentience or emotions are then not required for an advanced AI to be dangerous. In order to be safe for humanity, a superintelligence would have to be genuinely aligned with humanity\\'s morality and values so that it is \"fundamentally on our side\". [269] The political scientist Charles T. Rubin argued that \"any sufficiently advanced benevolence may be indistinguishable from malevolence\" and warned that we should not be confident that intelligent machines will by default treat us favorably. [270] The opinions amongst experts and industry insiders are mixed, with sizable fractions both concerned and unconcerned by risk from eventual superintelligent AI. [271] Personalities such as Stephen Hawking ,', metadata={'id': '918165', 'source': 'https://mikesofts.atlassian.net/wiki/spaces/~614914d4071141006ab46038/pages/918165/Future', 'start_index': 895, 'title': 'Future'}),\n",
       "  Document(page_content='by risk from eventual superintelligent AI. [271] Personalities such as Stephen Hawking , Bill Gates , Elon Musk have expressed concern about existential risk from AI. [272] In 2023, AI pioneers including Geoffrey Hinton , Yoshua Bengio , Demis Hassabis , and Sam Altman issued the joint statement that \"Mitigating the risk of extinction from AI should be a global priority alongside other societal-scale risks such as pandemics and nuclear war\"; some others such as Yann LeCun consider this to be unfounded. [273] Mark Zuckerberg said that AI will \"unlock a huge amount of positive things\", including curing diseases and improving the safety of self-driving cars. [274] Some experts have argued that the risks are too distant in the future to warrant research, or that humans will be valuable from the perspective of a superintelligent machine. [275] Rodney Brooks , in particular, said in 2014 that \"malevolent\" AI is still centuries away. [ad] Transhumanism Robot designer Hans Moravec ,', metadata={'id': '918165', 'source': 'https://mikesofts.atlassian.net/wiki/spaces/~614914d4071141006ab46038/pages/918165/Future', 'start_index': 1805, 'title': 'Future'}),\n",
       "  Document(page_content='and decentralized systems such as markets . [171] Terrorists, criminals and rogue states may use other forms of weaponized AI such as advanced digital warfare and lethal autonomous weapons . By 2015, over fifty countries were reported to be researching battlefield robots. [172] Machine-learning AI is also able to design tens of thousands of toxic molecules in a matter of hours. [173] Technological unemployment From the early days of the development of artificial intelligence there have been arguments, for example those put forward by Weizenbaum, about whether tasks that can be done by computers actually should be done by them, given the difference between computers and humans, and between quantitative calculation and qualitative, value-based judgement. [174] Economists have frequently highlighted the risks of redundancies from AI, and speculated about unemployment if there is no adequate social policy for full employment. [175] In the past, technology has tended to increase rather', metadata={'id': '918001', 'source': 'https://mikesofts.atlassian.net/wiki/spaces/~614914d4071141006ab46038/pages/918001/Ethics', 'start_index': 7208, 'title': 'Ethics'}),\n",
       "  Document(page_content='The field of machine ethics is also called computational morality, [186] and was founded at an AAAI symposium in 2005. [187] Other approaches include Wendell Wallach \\'s \"artificial moral agents\" [188] and Stuart J. Russell \\'s three principles for developing provably beneficial machines. [189] Regulation OpenAI CEO Sam Altman testifies about AI regulation before a US Senate subcommittee, 2023 The regulation of artificial intelligence is the development of public sector policies and laws for promoting and regulating artificial intelligence (AI); it is therefore related to the broader regulation of algorithms. [190] The regulatory and policy landscape for AI is an emerging issue in jurisdictions globally. [191] According to AI Index at Stanford , the annual number of AI-related laws passed in the 127 survey countries jumped from one passed in 2016 to 37 passed in 2022 alone. [192] [193] Between 2016 and 2020, more than 30 countries adopted dedicated strategies for AI. [194] Most EU', metadata={'id': '918001', 'source': 'https://mikesofts.atlassian.net/wiki/spaces/~614914d4071141006ab46038/pages/918001/Ethics', 'start_index': 10800, 'title': 'Ethics'})]}"
      ]
     },
     "execution_count": 45,
     "metadata": {},
     "output_type": "execute_result"
    }
   ],
   "source": [
    "qa_chain({\"question\":query, \"chat_history\":chat_history})"
   ]
  },
  {
   "cell_type": "code",
   "execution_count": 9,
   "metadata": {},
   "outputs": [
    {
     "data": {
      "text/plain": [
       "[]"
      ]
     },
     "execution_count": 9,
     "metadata": {},
     "output_type": "execute_result"
    }
   ],
   "source": [
    "\n",
    "retriever = cdb.as_retriever(\n",
    "    search_kwargs={\"k\": 5}\n",
    ")\n",
    "query = \"What is machine learning?\"\n",
    "\n",
    "# Get relevant documents ordered by relevance score\n",
    "docs = retriever.get_relevant_documents(query)\n",
    "docs"
   ]
  },
  {
   "cell_type": "code",
   "execution_count": 11,
   "metadata": {},
   "outputs": [
    {
     "data": {
      "text/plain": [
       "'https://mikesofts.atlassian.net/wiki/spaces/~614914d4071141006ab46038/pages/917667/Etymology'"
      ]
     },
     "execution_count": 11,
     "metadata": {},
     "output_type": "execute_result"
    }
   ],
   "source": [
    "docs[0].metadata['source']"
   ]
  },
  {
   "cell_type": "code",
   "execution_count": 8,
   "metadata": {},
   "outputs": [
    {
     "name": "stdout",
     "output_type": "stream",
     "text": [
      "of data science, and it is considered by some to\n",
      "Data science is an interdisciplinary academic\n",
      "Data science is an interdisciplinary field [10]\n",
      "[23] The term \"data science\" has been traced back\n",
      ", data science often involves tasks such as data\n"
     ]
    }
   ],
   "source": [
    "results = \"\\n\".join([doc.page_content for doc in docs])\n",
    "print(results)"
   ]
  },
  {
   "cell_type": "code",
   "execution_count": 2,
   "metadata": {},
   "outputs": [
    {
     "name": "stdout",
     "output_type": "stream",
     "text": [
      "Total pages: 26\n",
      "Title: mamba setup, ID: 33113\n",
      "Title: Knowledge base, ID: 65638\n",
      "Title: Template - How-to guide, ID: 65650\n",
      "Title: Template - Troubleshooting article, ID: 65664\n",
      "Title: Getting started in Confluence, ID: 98394\n",
      "Title: Overview, ID: 98395\n",
      "Title: Overview, ID: 98634\n",
      "Title: Software Development, ID: 262245\n",
      "Title: Template - Product requirements, ID: 262284\n",
      "Title: Template - Meeting notes, ID: 262298\n",
      "Title: Template - Decision documentation, ID: 262312\n",
      "Title: Get the most out of your software project space, ID: 262326\n",
      "Title: baby mamba, ID: 262359\n",
      "Title: Data Science, ID: 884737\n",
      "Title: Artificial intelligence, ID: 884784\n",
      "Title: In fiction, ID: 885246\n",
      "Title: Etymology, ID: 917667\n",
      "Title: Ethics, ID: 918001\n",
      "Title: Philosophy, ID: 918153\n",
      "Title: Future, ID: 918165\n",
      "Title: Foundations, ID: 983041\n",
      "Title: Data Science and Data Analysis, ID: 983053\n",
      "Title: Goals, ID: 1048724\n",
      "Title: Tools, ID: 1048904\n",
      "Title: Applications, ID: 1048916\n",
      "Title: History, ID: 1049028\n"
     ]
    }
   ],
   "source": [
    "# Get the list of all pages\n",
    "def get_all_pages():\n",
    "    pages = []\n",
    "    start = 0\n",
    "    limit = 50  # You can adjust the limit based on your needs\n",
    "    while True:\n",
    "        url = f\"{base_url}/content\"\n",
    "        params = {\n",
    "            \"start\": start,\n",
    "            \"limit\": limit,\n",
    "            \"expand\": \"version,body.view\",\n",
    "        }\n",
    "        response = session.get(url, params=params)\n",
    "\n",
    "        if response.status_code != 200:\n",
    "            print(f\"Error: {response.status_code}\")\n",
    "            break\n",
    "\n",
    "        data = response.json()\n",
    "        pages.extend(data.get(\"results\", []))\n",
    "\n",
    "        if data.get(\"size\", 0) < limit:\n",
    "            break\n",
    "\n",
    "        start += limit\n",
    "\n",
    "    return pages\n",
    "\n",
    "# Example usage\n",
    "if __name__ == \"__main__\":\n",
    "    all_pages = get_all_pages()\n",
    "    print(f\"Total pages: {len(all_pages)}\")\n",
    "\n",
    "    for page in all_pages:\n",
    "        print(f\"Title: {page['title']}, ID: {page['id']}\")\n",
    "\n"
   ]
  },
  {
   "cell_type": "code",
   "execution_count": null,
   "metadata": {},
   "outputs": [],
   "source": []
  }
 ],
 "metadata": {
  "kernelspec": {
   "display_name": "kagglex",
   "language": "python",
   "name": "python3"
  },
  "language_info": {
   "codemirror_mode": {
    "name": "ipython",
    "version": 3
   },
   "file_extension": ".py",
   "mimetype": "text/x-python",
   "name": "python",
   "nbconvert_exporter": "python",
   "pygments_lexer": "ipython3",
   "version": "3.10.12"
  },
  "orig_nbformat": 4
 },
 "nbformat": 4,
 "nbformat_minor": 2
}
