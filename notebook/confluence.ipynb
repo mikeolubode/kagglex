{
 "cells": [
  {
   "cell_type": "code",
   "execution_count": 3,
   "metadata": {},
   "outputs": [
    {
     "name": "stdout",
     "output_type": "stream",
     "text": [
      "Total pages: 26\n",
      "Title: mamba setup, ID: 33113\n",
      "Title: Knowledge base, ID: 65638\n",
      "Title: Template - How-to guide, ID: 65650\n",
      "Title: Template - Troubleshooting article, ID: 65664\n",
      "Title: Getting started in Confluence, ID: 98394\n",
      "Title: Overview, ID: 98395\n",
      "Title: Overview, ID: 98634\n",
      "Title: Software Development, ID: 262245\n",
      "Title: Template - Product requirements, ID: 262284\n",
      "Title: Template - Meeting notes, ID: 262298\n",
      "Title: Template - Decision documentation, ID: 262312\n",
      "Title: Get the most out of your software project space, ID: 262326\n",
      "Title: baby mamba, ID: 262359\n",
      "Title: Data Science, ID: 884737\n",
      "Title: Artificial intelligence, ID: 884784\n",
      "Title: In fiction, ID: 885246\n",
      "Title: Etymology, ID: 917667\n",
      "Title: Ethics, ID: 918001\n",
      "Title: Philosophy, ID: 918153\n",
      "Title: Future, ID: 918165\n",
      "Title: Foundations, ID: 983041\n",
      "Title: Data Science and Data Analysis, ID: 983053\n",
      "Title: Goals, ID: 1048724\n",
      "Title: Tools, ID: 1048904\n",
      "Title: Applications, ID: 1048916\n",
      "Title: History, ID: 1049028\n"
     ]
    }
   ],
   "source": [
    "import os\n",
    "import requests\n",
    "\n",
    "\n",
    "# Set your Confluence URL, email, and API token\n",
    "confluence_url = \"https://mikesofts.atlassian.net/\"\n",
    "email = os.environ['EMAIL']\n",
    "api_token = os.environ['API_TOKEN']\n",
    "\n",
    "# Define your Confluence API URL\n",
    "base_url = \"https://mikesofts.atlassian.net/wiki/rest/api\"\n",
    "\n",
    "# Create a session for authentication\n",
    "session = requests.Session()\n",
    "session.auth = (email, api_token)\n",
    "\n",
    "# Get the list of all pages\n",
    "def get_all_pages():\n",
    "    pages = []\n",
    "    start = 0\n",
    "    limit = 50  # You can adjust the limit based on your needs\n",
    "    while True:\n",
    "        url = f\"{base_url}/content\"\n",
    "        params = {\n",
    "            \"start\": start,\n",
    "            \"limit\": limit,\n",
    "            \"expand\": \"version,body.view\",\n",
    "        }\n",
    "        response = session.get(url, params=params)\n",
    "\n",
    "        if response.status_code != 200:\n",
    "            print(f\"Error: {response.status_code}\")\n",
    "            break\n",
    "\n",
    "        data = response.json()\n",
    "        pages.extend(data.get(\"results\", []))\n",
    "\n",
    "        if data.get(\"size\", 0) < limit:\n",
    "            break\n",
    "\n",
    "        start += limit\n",
    "\n",
    "    return pages\n",
    "\n",
    "# Example usage\n",
    "if __name__ == \"__main__\":\n",
    "    all_pages = get_all_pages()\n",
    "    print(f\"Total pages: {len(all_pages)}\")\n",
    "\n",
    "    for page in all_pages:\n",
    "        print(f\"Title: {page['title']}, ID: {page['id']}\")\n",
    "\n"
   ]
  },
  {
   "cell_type": "code",
   "execution_count": null,
   "metadata": {},
   "outputs": [],
   "source": []
  }
 ],
 "metadata": {
  "kernelspec": {
   "display_name": "kagglex",
   "language": "python",
   "name": "python3"
  },
  "language_info": {
   "codemirror_mode": {
    "name": "ipython",
    "version": 3
   },
   "file_extension": ".py",
   "mimetype": "text/x-python",
   "name": "python",
   "nbconvert_exporter": "python",
   "pygments_lexer": "ipython3",
   "version": "3.10.12"
  },
  "orig_nbformat": 4
 },
 "nbformat": 4,
 "nbformat_minor": 2
}
