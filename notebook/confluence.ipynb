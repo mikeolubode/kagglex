{
 "cells": [
  {
   "cell_type": "code",
   "execution_count": 1,
   "metadata": {},
   "outputs": [
    {
     "data": {
      "text/plain": [
       "True"
      ]
     },
     "execution_count": 1,
     "metadata": {},
     "output_type": "execute_result"
    }
   ],
   "source": [
    "import os\n",
    "import requests\n",
    "from dotenv import load_dotenv\n",
    "from langchain.document_loaders import ConfluenceLoader\n",
    "from langchain.text_splitter import RecursiveCharacterTextSplitter\n",
    "from langchain.vectorstores import Chroma\n",
    "from langchain.embeddings import HuggingFaceEmbeddings, GooglePalmEmbeddings\n",
    "from langchain.chains.question_answering import load_qa_chain\n",
    "from langchain.llms import GooglePalm\n",
    "from langchain.chains import ConversationalRetrievalChain, RetrievalQA, LLMChain\n",
    "import openai\n",
    "from langchain.embeddings.openai import OpenAIEmbeddings\n",
    "from langchain.chat_models import ChatOpenAI\n",
    "\n",
    "\n",
    "\n",
    "load_dotenv()"
   ]
  },
  {
   "cell_type": "code",
   "execution_count": 2,
   "metadata": {},
   "outputs": [
    {
     "data": {
      "text/plain": [
       "14"
      ]
     },
     "execution_count": 2,
     "metadata": {},
     "output_type": "execute_result"
    }
   ],
   "source": [
    "# Set your Confluence URL, email, and API token\n",
    "confluence_url = \"https://mikesofts.atlassian.net/\"\n",
    "email = os.environ['EMAIL']\n",
    "\n",
    "CONFLUENCE_API_TOKEN = os.environ['CONFLUENCE_API_TOKEN']\n",
    "GOOGLE_PALM_API_KEY = os.environ['GOOGLE_PALM_API_KEY']\n",
    "OPENAI_API_KEY = os.environ['OPENAI_API_KEY']\n",
    "# Define your Confluence API URL\n",
    "base_url = \"https://mikesofts.atlassian.net/wiki/rest/api\"\n",
    "\n",
    "# Create a session for authentication\n",
    "session = requests.Session()\n",
    "session.auth = (email, CONFLUENCE_API_TOKEN)\n",
    "\n",
    "## get documents from confluence\n",
    "loader = ConfluenceLoader(\n",
    "    url=f\"{confluence_url}wiki\", username=email, api_key=CONFLUENCE_API_TOKEN, \n",
    ")\n",
    "\n",
    "documents = loader.load(space_key=\"~614914d4071141006ab46038\", limit=50)\n",
    "len(documents)\n"
   ]
  },
  {
   "cell_type": "code",
   "execution_count": 35,
   "metadata": {},
   "outputs": [
    {
     "data": {
      "text/plain": [
       "[Document(page_content='', metadata={'title': 'Overview', 'id': '98395', 'source': 'https://mikesofts.atlassian.net/wiki/spaces/~614914d4071141006ab46038/overview'}),\n",
       " Document(page_content='Data science is an interdisciplinary academic field [1] that uses statistics , scientific computing , scientific methods , processes, algorithms and systems to extract or extrapolate knowledge and insights from noisy, structured, and unstructured data . [2] Data science also integrates domain knowledge from the underlying application domain (e.g., natural sciences, information technology, and medicine). [3] Data science is multifaceted and can be described as a science, a research paradigm, a research method, a discipline, a workflow, and a profession. [4] Data science is a \"concept to unify statistics , data analysis , informatics , and their related methods \" to \"understand and analyze actual phenomena \" with data . [5] It uses techniques and theories drawn from many fields within the context of mathematics , statistics, computer science , information science , and domain knowledge . [6] However, data science is different from computer science and information science. Turing Award winner Jim Gray imagined data science as a \"fourth paradigm\" of science ( empirical , theoretical , computational , and now data-driven) and asserted that \"everything about science is changing because of the impact of information technology \" and the data deluge . [7] [8] A data scientist is a professional who creates programming code and combines it with statistical knowledge to create insights from data.', metadata={'title': 'Data Science', 'id': '884737', 'source': 'https://mikesofts.atlassian.net/wiki/spaces/~614914d4071141006ab46038/pages/884737/Data+Science'}),\n",
       " Document(page_content='Artificial intelligence ( AI ) is the intelligence of machines or software, as opposed to the intelligence of humans or animals. It is also the field of study in computer science that develops and studies intelligent machines. \"AI\" may also refer to the machines themselves. AI technology is widely used throughout industry, government and science. Some high-profile applications are: advanced web search engines (e.g., Google Search ), recommendation systems (used by YouTube , Amazon , and Netflix ), understanding human speech (such as Siri and Alexa ), self-driving cars (e.g., Waymo ), generative or creative tools ( ChatGPT and AI art ), and competing at the highest level in strategic games (such as chess and Go ). [1] Artificial intelligence was founded as an academic discipline in 1956. [2] The field went through multiple cycles of optimism [3] [4] followed by disappointment and loss of funding, [5] [6] but after 2012, when deep learning surpassed all previous AI techniques, [7] there was a vast increase in funding and interest. The various sub-fields of AI research are centered around particular goals and the use of particular tools. The traditional goals of AI research include reasoning , knowledge representation , planning , learning , natural language processing , perception , and support for robotics . [a] General intelligence (the ability to solve an arbitrary problem) is among the field\\'s long-term goals. [8] To solve these problems, AI researchers have adapted and integrated a wide range of problem-solving techniques, including search and mathematical optimization, formal logic, artificial neural networks , and methods based on statistics , probability , and economics . [b] AI also draws upon psychology , linguistics , philosophy , neuroscience and many other fields. [9]', metadata={'title': 'Artificial intelligence', 'id': '884784', 'source': 'https://mikesofts.atlassian.net/wiki/spaces/~614914d4071141006ab46038/pages/884784/Artificial+intelligence'}),\n",
       " Document(page_content='Thought-capable artificial beings have appeared as storytelling devices since antiquity, [279] and have been a persistent theme in science fiction . [280] A common trope in these works began with Mary Shelley \\'s Frankenstein , where a human creation becomes a threat to its masters. This includes such works as Arthur C. Clarke\\'s and Stanley Kubrick\\'s 2001: A Space Odyssey (both 1968), with HAL 9000 , the murderous computer in charge of the Discovery One spaceship, as well as The Terminator (1984) and The Matrix (1999). In contrast, the rare loyal robots such as Gort from The Day the Earth Stood Still (1951) and Bishop from Aliens (1986) are less prominent in popular culture. [281] Isaac Asimov introduced the Three Laws of Robotics in many books and stories, most notably the \"Multivac\" series about a super-intelligent computer of the same name. Asimov\\'s laws are often brought up during lay discussions of machine ethics; [282] while almost all artificial intelligence researchers are familiar with Asimov\\'s laws through popular culture, they generally consider the laws useless for many reasons, one of which is their ambiguity. [283] Several works use AI to force us to confront the fundamental question of what makes us human, showing us artificial beings that have the ability to feel , and thus to suffer. This appears in Karel Čapek \\'s R.U.R. , the films A.I. Artificial Intelligence and Ex Machina , as well as the novel Do Androids Dream of Electric Sheep? , by Philip K. Dick . Dick considers the idea that our understanding of human subjectivity is altered by technology created with artificial intelligence. [284]', metadata={'title': 'In fiction', 'id': '885246', 'source': 'https://mikesofts.atlassian.net/wiki/spaces/~614914d4071141006ab46038/pages/885246/In+fiction'}),\n",
       " Document(page_content='Early usage[ edit ] In 1962, John Tukey described a field he called \"data analysis\", which resembles modern data science. [20] In 1985, in a lecture given to the Chinese Academy of Sciences in Beijing, C.\\xa0F. Jeff Wu used the term \"data science\" for the first time as an alternative name for statistics. [21] Later, attendees at a 1992 statistics symposium at the University of Montpellier\\xa0 II acknowledged the emergence of a new discipline focused on data of various origins and forms, combining established concepts and principles of statistics and data analysis with computing. [22] [23] The term \"data science\" has been traced back to 1974, when Peter Naur proposed it as an alternative name to computer science. [6] In 1996, the International Federation of Classification Societies became the first conference to specifically feature data science as a topic. [6] However, the definition was still in flux. After the 1985 lecture at the Chinese Academy of Sciences in Beijing, in 1997 C.\\xa0F. Jeff Wu again suggested that statistics should be renamed data science. He reasoned that a new name would help statistics shed inaccurate stereotypes, such as being synonymous with accounting or limited to describing data. [24] In 1998, Hayashi Chikio argued for data science as a new, interdisciplinary concept, with three aspects: data design, collection, and analysis. [23] During the 1990s, popular terms for the process of finding patterns in datasets (which were increasingly large) included \"knowledge discovery\" and \" data mining \". [6] [25] Modern usage[ edit ] In 2012, technologists Thomas H. Davenport and DJ Patil declared \"Data Scientist: The Sexiest Job of the 21st Century\", [26] a catchphrase that was picked up even by major-city newspapers like the New York Times [27] and the Boston Globe . [28] A decade later, they reaffirmed it, stating that \"the job is more in demand than ever with employers\". [29] The modern conception of data science as an independent discipline is sometimes attributed to William S. Cleveland . [30] In a 2001 paper, he advocated an expansion of statistics beyond theory into technical areas; because this would significantly change the field, it warranted a new name. [25] \"Data science\" became more widely used in the next few years: in 2002, the Committee on Data for Science and Technology launched the Data Science Journal . In 2003, Columbia University launched The Journal of Data Science . [25] In 2014, the American Statistical Association \\'s Section on Statistical Learning and Data Mining changed its name to the Section on Statistical Learning and Data Science, reflecting the ascendant popularity of data science. [31] The professional title of \"data scientist\" has been attributed to DJ Patil and Jeff Hammerbacher in 2008. [32] Though it was used by the National Science Board in their 2005 report \"Long-Lived Digital Data Collections: Enabling Research and Education in the 21st Century\", it referred broadly to any key role in managing a digital data collection . [33] There is still no consensus on the definition of data science, and it is considered by some to be a buzzword . [34] Big data is a related marketing term. [35] Data scientists are responsible for breaking down big data into usable information and creating software and algorithms that help companies and organizations determine optimal operations. [36]', metadata={'title': 'Etymology', 'id': '917667', 'source': 'https://mikesofts.atlassian.net/wiki/spaces/~614914d4071141006ab46038/pages/917667/Etymology'}),\n",
       " Document(page_content='Risks and harm Algorithmic bias and fairness Machine learning applications will be biased if they learn from biased data. [148] The developers may not be aware that the bias exists. [149] Bias can be introduced by the way training data is selected and by the way a model is deployed. [150] [148] Fairness in machine learning is the study of how to prevent the harm caused by algorithmic bias. On June 28, 2015, Google Photos \\'s new image labeling feature mistakenly identified Jacky Alcine and a friend as \"gorillas\" because they were black. The system was trained on a dataset that contained very few images of black people. [151] (Google \"fixed\" this problem by preventing the system from labelling anything as a \"gorilla\". Eight years later, in 2023, Google Photos still could not identify a gorilla, and neither could similar products from Apple, Facebook, Microsoft and Amazon. [152] ) If a biased algorithm is used to make decisions that can seriously harm people (as it can in medicine , finance , recruitment , housing or policing ) then the algorithm may cause discrimination . [153] This can occur if machine learning is used inappropriately. Machine learning models are designed to make \"predictions\" that are only valid if we assume that the future will resemble the past. If they are trained on data that includes the results of racist decisions in the past, machine learning models must predict that racist decisions will be made in the future. Unfortunately, there are applications that use these predictions as recommendations . Some of these \"recommendations\" will likely be racist. [154] Thus, machine learning is not well suited to help make decisions in areas where there is hope that the future will be better than the past. It is necessarily descriptive and not proscriptive. [m] A program can make biased decisions even if the data does not explicitly mention a problematic feature (such as \"race\" or \"gender\"). The feature will correlate with other features (like \"address\", \"shopping history\" or \"first name\"), and the program will make the same decisions based on these features as it would on \"race\" or \"gender\". [156] Moritz Hardt said “the most robust fact in this research area is that fairness through blindness doesn’t work.” [157] COMPAS is a commercial program widely used by U.S. courts to assess the likelihood of a defendant becoming a recidivist . In 2016, Julia Angwin at ProPublica discovered that COMPAS exhibited racial bias, despite the fact that the program was not told the races of the defendants. Although the error rate for both whites and blacks was calibrated equal at exactly 61%, the errors for each race were different -- the system consistently overestimated the chance that a black person would re-offend and would underestimate the chance that a white person would not re-offend. [158] In 2017, several researchers [n] showed that it was mathematically impossible for COMPAS to accommodate all possible measures of fairness when the base rates of re-offense were different for whites and blacks. [159] At its 2022 Conference on Fairness, Accountability, and Transparency (ACM FAccT 2022) the Association for Computing Machinery , in Seoul, South Korea, presented and published findings recommending that until AI and robotics systems are demonstrated to be free of bias mistakes, they are unsafe and the use of self-learning neural networks trained on vast, unregulated sources of flawed internet data should be curtailed. [160] Lack of transparency Most modern AI applications can not explain how they have reached a decision. [161] The large amount of relationships between inputs and outputs in deep neural networks and resulting complexity makes it difficult for even an expert to explain how they produced their outputs, making them a black box . [162] A machine learning program may pass rigorous black-box tests but nevertheless still have serious problems. There have been many cases where a program learned something different than what the programmers intended. For example, in 2013, Will Landacker developed a machine learning algorithm that could classify which photographs contained an animal. On closer examination, he discovered that the network had learned to classify images based on how they were focussed: pictures of animals tended to have an unfocussed background. [163] Similarly, Justin Ko and Roberto Novoa developed a system that could identify skin diseases better than medical professionals, however it classified any image of a ruler as \"cancerous\", because pictures of malignancies typically include a ruler to show the scale. [164] A more dangerous example was discovered by Rich Caruana in 2015: a machine learning system that accurately predicted risk of death classified a patient that was over 65, asthma and difficulty breathing as \"low risk\". Further research showed that in high-risk cases like this, the hospital would allocate more resources and save the patient\\'s life, decreasing the risk measured by the program. [165] Mistakes like these become obvious when we know how the program has reached a decision. Without an explanation, these problems may not not be discovered until after they have caused harm. A second issue is that people who have been harmed by an algorithm\\'s decision have a right to an explanation. Doctors, for example, are required to clearly and completely explain the reasoning behind any decision they make. [166] Early drafts of the European Union\\'s General Data Protection Regulation in 2016 included an explicit statement that this right exists. [o] Industry experts pointed out that this is an unsolved problem with no solution in sight. Regularities argued that nevertheless the harm is real: if the problem has no solution, the tools should not be used. [167] DARPA established the XAI (\"Explainable Artificial Intelligence\") program in 2014 to try and solve these problems. [166] There are several potential solutions to the transparency problem. Multitask learning provides a large number of outputs in addition to the target classification. These other outputs can help developers deduce what the network has learned. [168] Deconvolution , DeepDream and other generative methods can allow developers to see what different layers of a deep network have learned and produce output that can suggest what the network is learning. [169] Supersparse linear integer models use learning to identify the most important features, rather than the classification. Simple addition of these transparent features can then make the classification (i.e. learning is used to create a scoring system classifier , which is transparent). [170] Bad actors and weaponized AI AI provides a number of tools that are particularly useful for authoritarian governments: smart spyware , face recognition and voice recognition allow widespread surveillance ; such surveillance allows machine learning to classify potential enemies of the state and can prevent them from hiding; recommendation systems can precisely target propaganda and misinformation for maximum effect; deepfakes aid in producing misinformation; advanced AI can make authoritarian centralized decision making more competitive with liberal and decentralized systems such as markets . [171] Terrorists, criminals and rogue states may use other forms of weaponized AI such as advanced digital warfare and lethal autonomous weapons . By 2015, over fifty countries were reported to be researching battlefield robots. [172] Machine-learning AI is also able to design tens of thousands of toxic molecules in a matter of hours. [173] Technological unemployment From the early days of the development of artificial intelligence there have been arguments, for example those put forward by Weizenbaum, about whether tasks that can be done by computers actually should be done by them, given the difference between computers and humans, and between quantitative calculation and qualitative, value-based judgement. [174] Economists have frequently highlighted the risks of redundancies from AI, and speculated about unemployment if there is no adequate social policy for full employment. [175] In the past, technology has tended to increase rather than reduce total employment, but economists acknowledge that \"we\\'re in uncharted territory\" with AI. [176] A survey of economists showed disagreement about whether the increasing use of robots and AI will cause a substantial increase in long-term unemployment , but they generally agree that it could be a net benefit if productivity gains are redistributed . [177] Risk estimates vary; for example, in the 2010s Michael Osborne and Carl Benedikt Frey estimated 47% of U.S. jobs are at \"high risk\" of potential automation, while an OECD report classified only 9% of U.S. jobs as \"high risk\". [p] [179] The methodology of speculating about future employment levels has been criticised as lacking evidential foundation, and for implying that technology (rather than social policy) creates unemployment (as opposed to redundancies). [175] Unlike previous waves of automation, many middle-class jobs may be eliminated by artificial intelligence; The Economist stated in 2015 that \"the worry that AI could do to white-collar jobs what steam power did to blue-collar ones during the Industrial Revolution\" is \"worth taking seriously\". [180] Jobs at extreme risk range from paralegals to fast food cooks, while job demand is likely to increase for care-related professions ranging from personal healthcare to the clergy. [181] In April 2023, it was reported that 70% of the jobs for Chinese video game illlustrators had been eliminated by generative artifical intellgence. [182] [183] Copyright In order to leverage as large a dataset as is feasible, generative AI is often trained on unlicensed copyrighted works, including in domains such as images or computer code; the output is then used under a rationale of \" fair use \". Experts disagree about how well, and under what circumstances, this rationale will hold up in courts of law; relevant factors may include \"the purpose and character of the use of the copyrighted work\" and \"the effect upon the potential market for the copyrighted work\". [184] Ethical machines and alignment Friendly AI are machines that have been designed from the beginning to minimize risks and to make choices that benefit humans. Eliezer Yudkowsky , who coined the term, argues that developing friendly AI should be a higher research priority: it may require a large investment and it must be completed before AI becomes an existential risk. [185] Machines with intelligence have the potential to use their intelligence to make ethical decisions. The field of machine ethics provides machines with ethical principles and procedures for resolving ethical dilemmas. [186] The field of machine ethics is also called computational morality, [186] and was founded at an AAAI symposium in 2005. [187] Other approaches include Wendell Wallach \\'s \"artificial moral agents\" [188] and Stuart J. Russell \\'s three principles for developing provably beneficial machines. [189] Regulation OpenAI CEO Sam Altman testifies about AI regulation before a US Senate subcommittee, 2023 The regulation of artificial intelligence is the development of public sector policies and laws for promoting and regulating artificial intelligence (AI); it is therefore related to the broader regulation of algorithms. [190] The regulatory and policy landscape for AI is an emerging issue in jurisdictions globally. [191] According to AI Index at Stanford , the annual number of AI-related laws passed in the 127 survey countries jumped from one passed in 2016 to 37 passed in 2022 alone. [192] [193] Between 2016 and 2020, more than 30 countries adopted dedicated strategies for AI. [194] Most EU member states had released national AI strategies, as had Canada, China, India, Japan, Mauritius, the Russian Federation, Saudi Arabia, United Arab Emirates, US and Vietnam. Others were in the process of elaborating their own AI strategy, including Bangladesh, Malaysia and Tunisia. [194] The Global Partnership on Artificial Intelligence was launched in June 2020, stating a need for AI to be developed in accordance with human rights and democratic values, to ensure public confidence and trust in the technology. [194] Henry Kissinger , Eric Schmidt , and Daniel Huttenlocher published a joint statement in November 2021 calling for a government commission to regulate AI. [195] In 2023, OpenAI leaders published recommendations for the governance of superintelligence, which they believe may happen in less than 10 years. [196] In a 2022 Ipsos survey, attitudes towards AI varied greatly by country; 78% of Chinese citizens, but only 35% of Americans, agreed that \"products and services using AI have more benefits than drawbacks\". [192] A 2023 Reuters /Ipsos poll found that 61% of Americans agree, and 22% disagree, that AI poses risks to humanity. [197] In a 2023 Fox News poll, 35% of Americans thought it \"very important\", and an additional 41% thought it \"somewhat important\", for the federal government to regulate AI, versus 13% responding \"not very important\" and 8% responding \"not at all important\". [198] [199]', metadata={'title': 'Ethics', 'id': '918001', 'source': 'https://mikesofts.atlassian.net/wiki/spaces/~614914d4071141006ab46038/pages/918001/Ethics'}),\n",
       " Document(page_content='Defining artificial intelligence Main articles: Turing test , Intelligent agent , Dartmouth workshop , and Synthetic intelligence Alan Turing wrote in 1950 \"I propose to consider the question \\'can machines think\\'?\" [234] He advised changing the question from whether a machine \"thinks\", to \"whether or not it is possible for machinery to show intelligent behaviour\". [234] He devised the Turing test, which measures the ability of a machine to simulate human conversation. [235] Since we can only observe the behavior of the machine, it does not matter if it is \"actually\" thinking or literally has a \"mind\". Turing notes that we can not determine these things about other people [z] but \"it is usual to have a polite convention that everyone thinks\" [236] Russell and Norvig agree with Turing that AI must be defined in terms of \"acting\" and not \"thinking\". [237] However, they are critical that the test compares machines to people . \" Aeronautical engineering texts,\" they wrote, \"do not define the goal of their field as making \\'machines that fly so exactly like pigeons that they can fool other pigeons.\\'\" [238] AI founder John McCarthy agreed, writing that \"Artificial intelligence is not, by definition, simulation of human intelligence\". [239] McCarthy defines intelligence as \"the computational part of the ability to achieve goals in the world.\" [240] Another AI founder, Marvin Minsky similarly defines it as \"the ability to solve hard problems\". [241] These definitions view intelligence in terms of well-defined problems with well-defined solutions, where both the difficulty of the problem and the performance of the program are direct measures of the \"intelligence\" of the machine—and no other philosophical discussion is required, or may not even be possible. Another definition has been adopted by Google [242] [ better\\xa0source\\xa0needed ] , a major practitioner in the field of AI. This definition stipulates the ability of systems to synthesize information as the manifestation of intelligence, similar to the way it is defined in biological intelligence. Evaluating approaches to AI No established unifying theory or paradigm has guided AI research for most of its history. [aa] The unprecedented success of statistical machine learning in the 2010s eclipsed all other approaches (so much so that some sources, especially in the business world, use the term \"artificial intelligence\" to mean \"machine learning with neural networks\"). This approach is mostly sub-symbolic , soft and narrow (see below). Critics argue that these questions may have to be revisited by future generations of AI researchers. Symbolic AI and its limits Symbolic AI (or \" GOFAI \") [244] simulated the high-level conscious reasoning that people use when they solve puzzles, express legal reasoning and do mathematics. They were highly successful at \"intelligent\" tasks such as algebra or IQ tests. In the 1960s, Newell and Simon proposed the physical symbol systems hypothesis : \"A physical symbol system has the necessary and sufficient means of general intelligent action.\" [245] However, the symbolic approach failed on many tasks that humans solve easily, such as learning, recognizing an object or commonsense reasoning. Moravec\\'s paradox is the discovery that high-level \"intelligent\" tasks were easy for AI, but low level \"instinctive\" tasks were extremely difficult. [246] Philosopher Hubert Dreyfus had argued since the 1960s that human expertise depends on unconscious instinct rather than conscious symbol manipulation, and on having a \"feel\" for the situation, rather than explicit symbolic knowledge. [247] Although his arguments had been ridiculed and ignored when they were first presented, eventually, AI research came to agree. [ab] [13] The issue is not resolved: sub-symbolic reasoning can make many of the same inscrutable mistakes that human intuition does, such as algorithmic bias . Critics such as Noam Chomsky argue continuing research into symbolic AI will still be necessary to attain general intelligence, [249] [250] in part because sub-symbolic AI is a move away from explainable AI : it can be difficult or impossible to understand why a modern statistical AI program made a particular decision. The emerging field of neuro-symbolic artificial intelligence attempts to bridge the two approaches. Neat vs. scruffy Main article: Neats and scruffies \"Neats\" hope that intelligent behavior is described using simple, elegant principles (such as logic , optimization , or neural networks ). \"Scruffies\" expect that it necessarily requires solving a large number of unrelated problems. Neats defend their programs with theoretical rigor, scruffies rely mainly on incremental testing to see if they work. This issue was actively discussed in the 70s and 80s, [251] but eventually was seen as irrelevant. Modern AI has elements of both. Soft vs. hard computing Main article: Soft computing Finding a provably correct or optimal solution is intractable for many important problems. [12] Soft computing is a set of techniques, including genetic algorithms , fuzzy logic and neural networks , that are tolerant of imprecision, uncertainty, partial truth and approximation. Soft computing was introduced in the late 80s and most successful AI programs in the 21st century are examples of soft computing with neural networks. Narrow vs. general AI Main article: Artificial general intelligence AI researchers are divided as to whether to pursue the goals of artificial general intelligence and superintelligence directly or to solve as many specific problems as possible ( narrow AI ) in hopes these solutions will lead indirectly to the field\\'s long-term goals. [252] [253] General intelligence is difficult to define and difficult to measure, and modern AI has had more verifiable successes by focusing on specific problems with specific solutions. The experimental sub-field of artificial general intelligence studies this area exclusively. Machine consciousness, sentience and mind Main articles: Philosophy of artificial intelligence and Artificial consciousness The philosophy of mind does not know whether a machine can have a mind , consciousness and mental states , in the same sense that human beings do. This issue considers the internal experiences of the machine, rather than its external behavior. Mainstream AI research considers this issue irrelevant because it does not affect the goals of the field: to build machines that can solve problems using intelligence. Russell and Norvig add that \"[t]he additional project of making a machine conscious in exactly the way humans are is not one that we are equipped to take on.\" [254] However, the question has become central to the philosophy of mind. It is also typically the central question at issue in artificial intelligence in fiction . Consciousness Main articles: Hard problem of consciousness and Theory of mind David Chalmers identified two problems in understanding the mind, which he named the \"hard\" and \"easy\" problems of consciousness. [255] The easy problem is understanding how the brain processes signals, makes plans and controls behavior. The hard problem is explaining how this feels or why it should feel like anything at all, assuming we are right in thinking that it truly does feel like something (Dennett\\'s consciousness illusionism says this is an illusion). Human information processing is easy to explain, however, human subjective experience is difficult to explain. For example, it is easy to imagine a color-blind person who has learned to identify which objects in their field of view are red, but it is not clear what would be required for the person to know what red looks like . [256] Computationalism and functionalism Main articles: Computational theory of mind , Functionalism (philosophy of mind) , and Chinese room Computationalism is the position in the philosophy of mind that the human mind is an information processing system and that thinking is a form of computing. Computationalism argues that the relationship between mind and body is similar or identical to the relationship between software and hardware and thus may be a solution to the mind–body problem . This philosophical position was inspired by the work of AI researchers and cognitive scientists in the 1960s and was originally proposed by philosophers Jerry Fodor and Hilary Putnam . [257] Philosopher John Searle characterized this position as \" strong AI \": \"The appropriately programmed computer with the right inputs and outputs would thereby have a mind in exactly the same sense human beings have minds.\" [ac] Searle counters this assertion with his Chinese room argument, which attempts to show that, even if a machine perfectly simulates human behavior, there is still no reason to suppose it also has a mind. [261] Robot rights Main article: Robot rights If a machine has a mind and subjective experience, then it may also have sentience (the ability to feel), and if so it could also suffer ; it has been argued that this could entitle it to certain rights. [262] Any hypothetical robot rights would lie on a spectrum with animal rights and human rights. [263] This issue has been considered in fiction for centuries, [264] and is now being considered by, for example, California\\'s Institute for the Future ; however, critics argue that the discussion is premature. [265]', metadata={'title': 'Philosophy', 'id': '918153', 'source': 'https://mikesofts.atlassian.net/wiki/spaces/~614914d4071141006ab46038/pages/918153/Philosophy'}),\n",
       " Document(page_content='Superintelligence and the singularity A superintelligence is a hypothetical agent that would possess intelligence far surpassing that of the brightest and most gifted human mind. [253] If research into artificial general intelligence produced sufficiently intelligent software, it might be able to reprogram and improve itself. The improved software would be even better at improving itself, leading to what I. J. Good called an \" intelligence explosion \" and Vernor Vinge called a \" singularity \". [266] However, most technologies (such as transportation) do not improve exponentially indefinitely, but rather follow an S-curve, slowing when they reach the physical limits of what the technology can do. [267] Existential risk It has been argued AI will become so powerful that humanity may irreversibly lose control of it. This could, as the physicist Stephen Hawking puts it, \" spell the end of the human race \". [268] According to the philosopher Nick Bostrom , for almost any goals that a sufficiently intelligent AI may have, it is instrumentally incentivized to protect itself from being shut down and to acquire more resources, as intermediary steps to better achieve these goals. Sentience or emotions are then not required for an advanced AI to be dangerous. In order to be safe for humanity, a superintelligence would have to be genuinely aligned with humanity\\'s morality and values so that it is \"fundamentally on our side\". [269] The political scientist Charles T. Rubin argued that \"any sufficiently advanced benevolence may be indistinguishable from malevolence\" and warned that we should not be confident that intelligent machines will by default treat us favorably. [270] The opinions amongst experts and industry insiders are mixed, with sizable fractions both concerned and unconcerned by risk from eventual superintelligent AI. [271] Personalities such as Stephen Hawking , Bill Gates , Elon Musk have expressed concern about existential risk from AI. [272] In 2023, AI pioneers including Geoffrey Hinton , Yoshua Bengio , Demis Hassabis , and Sam Altman issued the joint statement that \"Mitigating the risk of extinction from AI should be a global priority alongside other societal-scale risks such as pandemics and nuclear war\"; some others such as Yann LeCun consider this to be unfounded. [273] Mark Zuckerberg said that AI will \"unlock a huge amount of positive things\", including curing diseases and improving the safety of self-driving cars. [274] Some experts have argued that the risks are too distant in the future to warrant research, or that humans will be valuable from the perspective of a superintelligent machine. [275] Rodney Brooks , in particular, said in 2014 that \"malevolent\" AI is still centuries away. [ad] Transhumanism Robot designer Hans Moravec , cyberneticist Kevin Warwick , and inventor Ray Kurzweil have predicted that humans and machines will merge in the future into cyborgs that are more capable and powerful than either. This idea, called transhumanism, has roots in Aldous Huxley and Robert Ettinger . [277] Edward Fredkin argues that \"artificial intelligence is the next stage in evolution\", an idea first proposed by Samuel Butler \\'s \" Darwin among the Machines \" as far back as 1863, and expanded upon by George Dyson in his book of the same name in 1998. [278]', metadata={'title': 'Future', 'id': '918165', 'source': 'https://mikesofts.atlassian.net/wiki/spaces/~614914d4071141006ab46038/pages/918165/Future'}),\n",
       " Document(page_content='Data science is an interdisciplinary field [10] focused on extracting knowledge from typically large data sets and applying the knowledge and insights from that data to solve problems in a wide range of application domains. The field encompasses preparing data for analysis, formulating data science problems, analyzing data, developing data-driven solutions, and presenting findings to inform high-level decisions in a broad range of application domains. As such, it incorporates skills from computer science, statistics, information science, mathematics, data visualization , information visualization , data sonification , data integration , graphic design , complex systems , communication and business . [11] [12] Statistician Nathan Yau , drawing on Ben Fry , also links data science to human–computer interaction : users should be able to intuitively control and explore data. [13] [14] In 2015, the American Statistical Association identified database management, statistics and machine learning , and distributed and parallel systems as the three emerging foundational professional communities. [15] Relationship to statistics Many statisticians, including Nate Silver , have argued that data science is not a new field, but rather another name for statistics. [16] Others argue that data science is distinct from statistics because it focuses on problems and techniques unique to digital data. [17] Vasant Dhar writes that statistics emphasizes quantitative data and description. In contrast, data science deals with quantitative and qualitative data (e.g., from images, text, sensors, transactions, customer information, etc.) and emphasizes prediction and action. [18] Andrew Gelman of Columbia University has described statistics as a non-essential part of data science. [19] Stanford professor David Donoho writes that data science is not distinguished from statistics by the size of datasets or use of computing and that many graduate programs misleadingly advertise their analytics and statistics training as the essence of a data-science program. He describes data science as an applied field growing out of traditional statistics', metadata={'title': 'Foundations', 'id': '983041', 'source': 'https://mikesofts.atlassian.net/wiki/spaces/~614914d4071141006ab46038/pages/983041/Foundations'}),\n",
       " Document(page_content='Data science and data analysis are both important disciplines in the field of data management and analysis, but they differ in several key ways. While both fields involve working with data, data science is more of an interdisciplinary field that involves the application of statistical, computational, and machine learning methods to extract insights from data and make predictions, while data analysis is more focused on the examination and interpretation of data to identify patterns and trends. [37] [38] Data analysis typically involves working with smaller, structured datasets to answer specific questions or solve specific problems. This can involve tasks such as data cleaning , data visualization , and exploratory data analysis to gain insights into the data and develop hypotheses about relationships between variables . Data analysts typically use statistical methods to test these hypotheses and draw conclusions from the data. For example, a data analyst might analyze sales data to identify trends in customer behavior and make recommendations for marketing strategies. [37] Data science, on the other hand, is a more complex and iterative process that involves working with larger, more complex datasets that often require advanced computational and statistical methods to analyze. Data scientists often work with unstructured data such as text or images and use machine learning algorithms to build predictive models and make data-driven decisions. In addition to statistical analysis , data science often involves tasks such as data preprocessing , feature engineering , and model selection. For instance, a data scientist might develop a recommendation system for an e-commerce platform by analyzing user behavior patterns and using machine learning algorithms to predict user preferences. [38] [39] While data analysis focuses on extracting insights from existing data, data science goes beyond that by incorporating the development and implementation of predictive models to make informed decisions. Data scientists are often responsible for collecting and cleaning data, selecting appropriate analytical techniques, and deploying models in real-world scenarios. They work at the intersection of mathematics, computer science , and domain expertise to solve complex problems and uncover hidden patterns in large datasets. [38] Despite these differences, data science and data analysis are closely related fields and often require similar skill sets. Both fields require a solid foundation in statistics, programming , and data visualization , as well as the ability to communicate findings effectively to both technical and non-technical audiences. Moreover, both fields benefit from critical thinking and domain knowledge , as understanding the context and nuances of the data is essential for accurate analysis and modeling. [37] [38] In summary, data analysis and data science are distinct yet interconnected disciplines within the broader field of data management and analysis. Data analysis focuses on extracting insights and drawing conclusions from structured data , while data science involves a more comprehensive approach that combines statistical analysis , computational methods, and machine learning to extract insights, build predictive models, and drive data-driven decision-making . Both fields play vital roles in leveraging the power of data to understand patterns, make informed decisions, and solve complex problems across various domains.', metadata={'title': 'Data Science and Data Analysis', 'id': '983053', 'source': 'https://mikesofts.atlassian.net/wiki/spaces/~614914d4071141006ab46038/pages/983053/Data+Science+and+Data+Analysis'}),\n",
       " Document(page_content='The general problem of simulating (or creating) intelligence has been broken down into sub-problems. These consist of particular traits or capabilities that researchers expect an intelligent system to display. The traits described below have received the most attention and cover the scope of AI research. [a] Reasoning, problem-solving Early researchers developed algorithms that imitated step-by-step reasoning that humans use when they solve puzzles or make logical deductions. [10] By the late 1980s and 1990s, methods were developed for dealing with uncertain or incomplete information, employing concepts from probability and economics . [11] Many of these algorithms are insufficient for solving large reasoning problems because they experience a \"combinatorial explosion\": they became exponentially slower as the problems grew larger. [12] Even humans rarely use the step-by-step deduction that early AI research could model. They solve most of their problems using fast, intuitive judgments. [13] Accurate and efficient reasoning is an unsolved problem. Knowledge representation An ontology represents knowledge as a set of concepts within a domain and the relationships between those concepts. Knowledge representation and knowledge engineering [14] allow AI programs to answer questions intelligently and make deductions about real-world facts. Formal knowledge representations are used in content-based indexing and retrieval, [15] scene interpretation, [16] clinical decision support, [17] knowledge discovery (mining \"interesting\" and actionable inferences from large databases), [18] and other areas. [19] A knowledge base is a body of knowledge represented in a form that can be used by a program. An ontology is the set of objects, relations, concepts, and properties used by domain of knowledge. [20] Knowledge bases need to represent things such as: objects, properties, categories and relations between objects; [21] situations, events, states and time; [22] causes and effects; [23] knowledge about knowledge (what we know about what other people know); [24] default reasoning (things that humans assume are true until they are told differently and will remain true even when other facts are changing); [25] and many other aspects and domains of knowledge. Among the most difficult problems in KR are: the breadth of commonsense knowledge (the set of atomic facts that the average person knows is enormous); [26] and the sub-symbolic form of most commonsense knowledge (much of what people know is not represented as \"facts\" or \"statements\" that they could express verbally). [13] Knowledge acquisition is the difficult problem of obtaining knowledge for AI applications. [c] Modern AI gathers knowledge by \" scraping \" the internet (including Wikipedia ). The knowledge itself was collected by the volunteers and professionals who published the information (who may or may not have agreed to provide their work to AI companies). [29] This \" crowd sourced \" technique does not guarantee that the knowledge is correct or reliable. The knowledge of Large Language Models (such as Chat-GPT ) is highly unreliable -- it generates misinformation and falsehoods (known as \" hallucinations \"). Providing accurate knowledge for these modern AI applications is an unsolved problem. Planning and decision making An \"agent\" is anything that perceives and takes actions in the world. A rational agent has goals or preferences and takes actions to make them happen. [d] [30] In automated planning , the agent has a specific goal. [31] In automated decision making , the agent has preferences – there are some situations it would prefer to be in, and some situations it is trying to avoid. The decision making agent assigns a number to each situation (called the \" utility \") that measures how much the agent prefers it. For each possible action, it can calculate the \" expected utility \": the utility of all possible outcomes of the action, weighted by the probability that the outcome will occur. It can then choose the action with the maximum expected utility. [32] In classical planning , the agent knows exactly what the effect of any action will be. [33] In most real-world problems, however, the agent may not be certain about the situation they are in (it is \"unknown\" or \"unobservable\") and it may not know for certain what will happen after each possible action (it is not \"deterministic\"). It must choose an action by making a probabilistic guess and then reassess the situation to see if the action worked. [34] In some problems, the agent\\'s preferences may be uncertain, especially if there are other agents or humans involved. These can be learned (e.g., with inverse reinforcement learning ) or the agent can seek information to improve its preferences. [35] Information value theory can be used to weigh the value of exploratory or experimental actions. [36] The space of possible future actions and situations is typically intractably large, so the agents must take actions and evaluate situations while being uncertain what the final outcome will be. A Markov decision process has a transition model that describes the probability that a particular action will change the state in a particular way, and a reward function that supplies the utility of each state and the cost of each action. A policy associates a decision with each possible state. The policy could be calculated (e.g. by iteration ), be heuristic , or it can be learned. [37] Game theory describes rational behavior of multiple interacting agents, and is used in AI programs that make decisions that involve other agents. [38] Learning Machine learning is the study of programs that can improve their performance on a given task automatically. [39] It has been a part of AI from the beginning. [e] There are several kinds of machine learning. Unsupervised learning analyzes a stream of data and finds patterns and makes predictions without any other guidance. [42] Supervised learning requires a human to label the input data first, and comes in two main varieties: classification (where the program must learn to predict what category the input belongs in) and regression (where the program must deduce a numeric function based on numeric input). [43] In reinforcement learning the agent is rewarded for good responses and punished for bad ones. The agent learns to choose responses that are classified as \"good\". [44] Transfer learning is when the knowledge gained from one problem is applied to a new problem. [45] Deep learning uses artificial neural networks for all of these types of learning. Computational learning theory can assess learners by computational complexity , by sample complexity (how much data is required), or by other notions of optimization . [46] Natural language processing Natural language processing (NLP) [47] allows programs to read, write and communicate in human languages such as English . Specific problems include speech recognition , speech synthesis , machine translation , information extraction , information retrieval and question answering . [48] Early work, based on Noam Chomsky \\'s generative grammar and semantic networks , had difficulty with word-sense disambiguation [f] unless restricted to small domains called \" micro-worlds \" (due to the common sense knowledge problem [26] ). Modern deep learning techniques for NLP include word embedding (how often one word appears near another), [49] transformers (which finds patterns in text), [50] and others. [51] In 2019, generative pre-trained transformer (or \"GPT\") language models began to generate coherent text, [52] [53] and by 2023 these models were able to get human-level scores on the bar exam , SAT , GRE , and many other real-world applications. [54] Perception Feature detection (pictured: edge detection ) helps AI compose informative abstract structures out of raw data. Machine perception is the ability to use input from sensors (such as cameras, microphones, wireless signals, active lidar , sonar, radar, and tactile sensors ) to deduce aspects of the world. Computer vision is the ability to analyze visual input. [55] The field includes speech recognition , [56] image classification , [57] facial recognition , object recognition , [58] and robotic perception . [59] Robotics Social intelligence Kismet , a robot with rudimentary social skills [61] Affective computing is an interdisciplinary umbrella that comprises systems that recognize, interpret, process or simulate human feeling, emotion and mood . [62] For example, some virtual assistants are programmed to speak conversationally or even to banter humorously; it makes them appear more sensitive to the emotional dynamics of human interaction, or to otherwise facilitate human–computer interaction . However, this tends to give naïve users an unrealistic conception of how intelligent existing computer agents actually are. [63] Moderate successes related to affective computing include textual sentiment analysis and, more recently, multimodal sentiment analysis , wherein AI classifies the affects displayed by a videotaped subject. [64] General intelligence A machine with artificial general intelligence should be able to solve a wide variety of problems with breadth and versatility similar to human intelligence. [8]', metadata={'title': 'Goals', 'id': '1048724', 'source': 'https://mikesofts.atlassian.net/wiki/spaces/~614914d4071141006ab46038/pages/1048724/Goals'}),\n",
       " Document(page_content='AI research uses a wide variety of tools to accomplish the goals above. [b] Search and optimization AI can solve many problems by intelligently searching through many possible solutions. [65] There are two very different kinds of search used in AI: state space search and local search . State space search State space search searches through a tree of possible states to try to find a goal state. [66] For example, Planning algorithms search through trees of goals and subgoals, attempting to find a path to a target goal, a process called means-ends analysis . [67] Simple exhaustive searches [68] are rarely sufficient for most real-world problems: the search space (the number of places to search) quickly grows to astronomical numbers . The result is a search that is too slow or never completes. [12] \" Heuristics \" or \"rules of thumb\" can help to prioritize choices that are more likely to reach a goal. [69] Adversarial search is used for game-playing programs, such as chess or go. It searches through a tree of possible moves and counter-moves, looking for a winning position. [70] Local search A particle swarm seeking the global minimum Local search uses mathematical optimization to find a numeric solution to a problem. It begins with some form of a guess and then refines the guess incrementally until no more refinements can be made. These algorithms can be visualized as blind hill climbing : we begin the search at a random point on the landscape, and then, by jumps or steps, we keep moving our guess uphill, until we reach the top. This process is called stochastic gradient descent . [71] Evolutionary computation uses a form of optimization search. For example, they may begin with a population of organisms (the guesses) and then allow them to mutate and recombine, selecting only the fittest to survive each generation (refining the guesses). [72] Distributed search processes can coordinate via swarm intelligence algorithms. Two popular swarm algorithms used in search are particle swarm optimization (inspired by bird flocking ) and ant colony optimization (inspired by ant trails ). [73] Neural networks and statistical classifiers (discussed below), also use a form of local search, where the \"landscape\" to be searched is formed by learning. Logic Formal Logic is used for reasoning and knowledge representation . [74] Formal logic comes in two main forms: propositional logic (which operates on statements that are true or false and uses logical connectives such as \"and\", \"or\", \"not\" and \"implies\") [75] and predicate logic (which also operates on objects, predicates and relations and uses quantifiers such as \" Every X is a Y \" and \"There are some X s that are Y s\"). [76] Logical inference (or deduction ) is the process of proving a new statement ( conclusion ) from other statements that are already known to be true (the premises ). [77] A logical knowledge base also handles queries and assertions as a special case of inference. [78] An inference rule describes what is a valid step in a proof. The most general inference rule is resolution . [79] Inference can be reduced to performing a search to find a path that leads from premises to conclusions, where each step is the application of an inference rule . [80] Inference performed this way is intractable except for short proofs in restricted domains. No efficient, powerful and general method has been discovered. [81] Fuzzy logic assigns a \"degree of truth\" between 0 and 1 and handles uncertainty and probabilistic situations. [82] Non-monotonic logics are designed to handle default reasoning . [25] Other specialized versions of logic have been developed to describe many complex domains (see knowledge representation above). Probabilistic methods for uncertain reasoning Expectation-maximization clustering of Old Faithful eruption data starts from a random guess but then successfully converges on an accurate clustering of the two physically distinct modes of eruption. Many problems in AI (including in reasoning, planning, learning, perception, and robotics) require the agent to operate with incomplete or uncertain information. AI researchers have devised a number of tools to solve these problems using methods from probability theory and economics. [83] Bayesian networks [84] are a very general tool that can be used for many problems, including reasoning (using the Bayesian inference algorithm), [g] [86] learning (using the expectation-maximization algorithm ), [h] [88] planning (using decision networks ) [89] and perception (using dynamic Bayesian networks ). [90] Probabilistic algorithms can also be used for filtering, prediction, smoothing and finding explanations for streams of data, helping perception systems to analyze processes that occur over time (e.g., hidden Markov models or Kalman filters ). [90] Precise mathematical tools have been developed that analyze how an agent can make choices and plan, using decision theory , decision analysis , [91] and information value theory . [92] These tools include models such as Markov decision processes , [93] dynamic decision networks , [90] game theory and mechanism design . [94] Classifiers and statistical learning methods The simplest AI applications can be divided into two types: classifiers (e.g. \"if shiny then diamond\"), on one hand, and controllers (e.g. \"if diamond then pick up\"), on the other hand. Classifiers [95] are functions that use pattern matching to determine the closest match. They can be fine-tuned based on chosen examples using supervised learning . Each pattern (also called an \" observation \") is labeled with a certain predefined class. All the observations combined with their class labels are known as a data set . When a new observation is received, that observation is classified based on previous experience. [43] There are many kinds of classifiers in use. The decision tree is the simplest and most widely used symbolic machine learning algorithm. [96] K-nearest neighbor algorithm was the most widely used analogical AI until the mid-1990s, and Kernel methods such as the support vector machine (SVM) displaced k-nearest neighbor in the 1990s. [97] The naive Bayes classifier is reportedly the \"most widely used learner\" [98] at Google, due in part to its scalability. [99] Neural networks are also used as classifiers. [100] Artificial neural networks A neural network is an interconnected group of nodes, akin to the vast network of neurons in the human brain . Artificial neural networks [100] were inspired by the design of the human brain: a simple \"neuron\" N accepts input from other neurons, each of which, when activated (or \"fired\"), casts a weighted \"vote\" for or against whether neuron N should itself activate. In practice, the input \"neurons\" are a list of numbers , the \"weights\" are a matrix , the next layer is the dot product (i.e., several weighted sums ) scaled by an increasing function , such as the logistic function . \"The resemblance to real neural cells and structures is superficial\", according to Russell and Norvig . [101] [i] Learning algorithms for neural networks use local search to choose the weights that will get the right output for each input during training. The most common training technique is the backpropagation algorithm. [102] Neural networks learn to model complex relationships between inputs and outputs and find patterns in data. In theory, a neural network can learn any function. [103] In feedforward neural networks the signal passes in only one direction. [104] Recurrent neural networks feed the output signal back into the input, which allows short-term memories of previous input events. Long short term memory is the most successful network architecture for recurrent networks. [105] Perceptrons [106] use only a single layer of neurons, deep learning [107] uses multiple layers. Convolutional neural networks strengthen the connection between neurons that are \"close\" to each other – this is especially important in image processing , where a local set of neurons must identify an \"edge\" before the network can identify an object. [108] Deep learning Representing images on multiple layers of abstraction in deep learning [109] Deep learning [107] uses several layers of neurons between the network\\'s inputs and outputs. The multiple layers can progressively extract higher-level features from the raw input. For example, in image processing , lower layers may identify edges, while higher layers may identify the concepts relevant to a human such as digits or letters or faces. [110] Deep learning has drastically improved the performance of programs in many important subfields of artificial intelligence, including computer vision , speech recognition , image classification [111] and others. The reason that deep learning performs so well in so many applications is not known as of 2023. [112] The sudden success of deep learning in 2012–2015 did not occur because of some new discovery or theoretical breakthrough (deep neural networks and backpropagation had been described by many people, as far back as the 1950s) [j] but because of two factors: the incredible increase in computer power (including the hundred-fold increase in speed by switching to GPUs ) and the availability of vast amounts of training data, especially the giant curated datasets used for benchmark testing, such as ImageNet . [k] Specialized hardware and software Main articles: Programming languages for artificial intelligence and Hardware for artificial intelligence In the late 2010s, graphics processing units (GPUs) that were increasingly designed with AI-specific enhancements and used with specialized TensorFlow software, had replaced previously used central processing unit (CPUs) as the dominant means for large-scale (commercial and academic) machine learning models\\' training. [121] Historically, specialized languages, such as Lisp , Prolog , and others, had been used.', metadata={'title': 'Tools', 'id': '1048904', 'source': 'https://mikesofts.atlassian.net/wiki/spaces/~614914d4071141006ab46038/pages/1048904/Tools'}),\n",
       " Document(page_content='For this 2018 project of the artist Joseph Ayerle the AI had to learn the typical patterns in the colors and brushstrokes of Renaissance painter Raphael . The portrait shows the face of the actress Ornella Muti , \"painted\" by AI in the style of Raphael. AI and machine learning technology is used in most of the essential applications of the 2020s, including: search engines (such as Google Search ), targeting online advertisements , [122] recommendation systems (offered by Netflix , YouTube or Amazon ), driving internet traffic , [123] [124] targeted advertising ( AdSense , Facebook ), virtual assistants (such as Siri or Alexa ), [125] autonomous vehicles (including drones , ADAS and self-driving cars ), automatic language translation ( Microsoft Translator , Google Translate ), facial recognition ( Apple \\'s Face ID or Microsoft \\'s DeepFace ) and image labeling (used by Facebook , Apple \\'s iPhoto and TikTok ). There are also thousands of successful AI applications used to solve specific problems for specific industries or institutions. In a 2017 survey, one in five companies reported they had incorporated \"AI\" in some offerings or processes. [126] A few examples are energy storage , [127] medical diagnosis, military logistics, applications that predict the result of judicial decisions, [128] foreign policy , [129] or supply chain management. Game playing programs have been used since the 1950s to demonstrate and test AI\\'s most advanced techniques. Deep Blue became the first computer chess-playing system to beat a reigning world chess champion, Garry Kasparov , on 11 May 1997. [130] In 2011, in a Jeopardy! quiz show exhibition match, IBM \\'s question answering system , Watson , defeated the two greatest Jeopardy! champions, Brad Rutter and Ken Jennings , by a significant margin. [131] In March 2016, AlphaGo won 4 out of 5 games of Go in a match with Go champion Lee Sedol , becoming the first computer Go -playing system to beat a professional Go player without handicaps . [132] Then it defeated Ke Jie in 2017 , who at the time continuously held the world No. 1 ranking for two years. [133] [134] [135] Other programs handle imperfect-information games; such as for poker at a superhuman level, Pluribus [l] and Cepheus . [137] DeepMind in the 2010s developed a \"generalized artificial intelligence\" that could learn many diverse Atari games on its own. [138] In the early 2020s, generative AI gained widespread prominence. ChatGPT , based on GPT-3 , and other large language models , were tried by 14% of Americans adults. [139] The increasing realism and ease-of-use of AI-based text-to-image generators such as Midjourney , DALL-E , and Stable Diffusion [140] [141] sparked a trend of viral AI-generated photos. Widespread attention was gained by a fake photo of Pope Francis wearing a white puffer coat, [142] the fictional arrest of Donald Trump , [143] and a hoax of an attack on the Pentagon , [144] as well as the usage in professional creative arts. [145] [146] AlphaFold 2 (2020) demonstrated the ability to approximate, in hours rather than months, the 3D structure of a protein. [147]', metadata={'title': 'Applications', 'id': '1048916', 'source': 'https://mikesofts.atlassian.net/wiki/spaces/~614914d4071141006ab46038/pages/1048916/Applications'}),\n",
       " Document(page_content='The study of mechanical or \"formal\" reasoning began with philosophers and mathematicians in antiquity. The study of logic led directly to Alan Turing \\'s theory of computation , which suggested that a machine, by shuffling symbols as simple as \"0\" and \"1\", could simulate both mathematical deduction and formal reasoning, which is known as the Church–Turing thesis . [200] This, along with at the time new discoveries in cybernetics and information theory , led researchers to consider the possibility of building an \"electronic brain\". [q] [202] The first paper later recognized as \"AI\" was McCullouch and Pitts design for Turing-complete \"artificial neurons\" in 1943. [203] The field of AI research was founded at a workshop at Dartmouth College in 1956. [r] [2] The attendees became the leaders of AI research in the 1960s. [s] They and their students produced programs that the press described as \"astonishing\": [t] computers were learning checkers strategies, solving word problems in algebra, proving logical theorems and speaking English. [u] [3] By the middle of the 1960s, research in the U.S. was heavily funded by the Department of Defense [207] and laboratories had been established around the world. [208] Herbert Simon predicted, \"machines will be capable, within twenty years, of doing any work a man can do\". [209] Marvin Minsky agreed, writing, \"within a generation\\xa0... the problem of creating \\'artificial intelligence\\' will substantially be solved\". [210] They had, however, underestimated the difficulty of the problem. [v] Both the U.S. and British governments cut off exploratory research in response to the criticism of Sir James Lighthill [212] and ongoing pressure from the US Congress to fund more productive projects . Minsky \\'s and Papert \\'s book Perceptrons was understood as proving that artificial neural networks approach would never be useful for solving real-world tasks, thus discrediting the approach altogether. [213] The \" AI winter \", a period when obtaining funding for AI projects was difficult, followed. [5] In the early 1980s, AI research was revived by the commercial success of expert systems , [214] a form of AI program that simulated the knowledge and analytical skills of human experts. By 1985, the market for AI had reached over a billion dollars. At the same time, Japan\\'s fifth generation computer project inspired the U.S. and British governments to restore funding for academic research . [4] However, beginning with the collapse of the Lisp Machine market in 1987, AI once again fell into disrepute, and a second, longer-lasting winter began. [6] Many researchers began to doubt that the current practices would be able to imitate all the processes of human cognition, especially perception , robotics, learning and pattern recognition . [215] A number of researchers began to look into \"sub-symbolic\" approaches. [216] Robotics researchers, such as Rodney Brooks , rejected \"representation\" in general and focussed directly on engineering machines that move and survive. [w] . Judea Pearl , Lofti Zadeh and others developed methods that handled incomplete and uncertain information by making reasonable guesses rather than precise logic. [83] [221] But the most important development was the revival of \" connectionism \", including neural network research, by Geoffrey Hinton and others. [222] In 1990, Yann LeCun successfully showed that convolutional neural networks can recognize handwritten digits, the first of many successful applications of neural networks. [223] AI gradually restored its reputation in the late 1990s and early 21st century by exploiting formal mathematical methods and by finding specific solutions to specific problems. This \" narrow \" and \"formal\" focus allowed researchers to produce verifiable results and collaborate with other fields (such as statistics , economics and mathematics ). [224] By 2000, solutions developed by AI researchers were being widely used, although in the 1990s they were rarely described as \"artificial intelligence\". [225] Several academic researchers became concerned that AI was no longer pursuing the original goal of creating versatile, fully intelligent machines. Beginning around 2002, they founded the subfield of artificial general intelligence (or \"AGI\"), which had several well-funded institutions by the 2010s. [8] Deep learning began to dominate industry benchmarks in 2012 and was adopted throughout the field. [7] For many specific tasks, other methods were abandoned. [x] Deep learning\\'s success was based on both hardware improvements ( faster computers , [227] graphics processing units , cloud computing [228] ) and access to large amounts of data [229] (including curated datasets, [228] such as ImageNet ). Deep learning\\'s success led to an enormous increase in interest and funding in AI. [y] The amount of machine learning research (measured by total publications) increased by 50% in the years 2015–2019, [194] and WIPO reported that AI was the most prolific emerging technology in terms of the number of patent applications and granted patents [230] According to \\'AI Impacts\\', about $50 billion annually was invested in \"AI\" around 2022 in the US alone and about 20% of new US Computer Science PhD graduates have specialized in \"AI\"; [231] about 800,000 \"AI\"-related US job openings existed in 2022. [232] In 2016, issues of fairness and the misuse of technology were catapulted into center stage at machine learning conferences, publications vastly increased, funding became available, and many researchers re-focussed their careers on these issues. The alignment problem became a serious field of academic study.', metadata={'title': 'History', 'id': '1049028', 'source': 'https://mikesofts.atlassian.net/wiki/spaces/~614914d4071141006ab46038/pages/1049028/History'})]"
      ]
     },
     "execution_count": 35,
     "metadata": {},
     "output_type": "execute_result"
    }
   ],
   "source": [
    "documents"
   ]
  },
  {
   "cell_type": "code",
   "execution_count": 3,
   "metadata": {},
   "outputs": [],
   "source": [
    "palm_embeddings = GooglePalmEmbeddings(google_api_key=os.environ[\"GOOGLE_PALM_API_KEY\"])\n",
    "hf_embeddings = HuggingFaceEmbeddings(model_name=\"all-MiniLM-L6-v2\")\n",
    "\n",
    "llm = GooglePalm(google_api_key=os.environ[\"GOOGLE_PALM_API_KEY\"], temperature = 0.0)\n",
    "\n",
    "# instantiate text splitter\n",
    "text_splitter = RecursiveCharacterTextSplitter(\n",
    "    chunk_size = 1000,\n",
    "    chunk_overlap  = 100,\n",
    "    length_function = len,\n",
    "    add_start_index = True,\n",
    "    separators=[\"\\n\\n\", \"\\n\", \"(?<=\\. )\", \" \", \"\"]\n",
    ")"
   ]
  },
  {
   "cell_type": "code",
   "execution_count": 7,
   "metadata": {},
   "outputs": [],
   "source": [
    "s1=\"I love women\"\n",
    "s2=\"I love ladies\"\n",
    "s3=\"what exactly is a car made of?\"\n",
    "\n",
    "e1=palm_embeddings.embed_query(s1)\n",
    "e2=palm_embeddings.embed_query(s2)\n",
    "e3=palm_embeddings.embed_query(s3)\n",
    "import numpy as np\n"
   ]
  },
  {
   "cell_type": "code",
   "execution_count": 9,
   "metadata": {},
   "outputs": [
    {
     "name": "stdout",
     "output_type": "stream",
     "text": [
      "0.8805366720986096\n",
      "0.37427416328205193\n",
      "0.4397473493605388\n"
     ]
    }
   ],
   "source": [
    "print(np.dot(e1, e2))\n",
    "print(np.dot(e1, e3))\n",
    "print(np.dot(e3, e2))"
   ]
  },
  {
   "cell_type": "code",
   "execution_count": 32,
   "metadata": {},
   "outputs": [
    {
     "data": {
      "text/plain": [
       "11"
      ]
     },
     "execution_count": 32,
     "metadata": {},
     "output_type": "execute_result"
    }
   ],
   "source": [
    "toy_splitter = RecursiveCharacterTextSplitter(\n",
    "    chunk_size = 100,\n",
    "    chunk_overlap  = 10,\n",
    "    length_function = len,\n",
    "    add_start_index = True,\n",
    "    separators=[\"\\n\\n\", \"\\n\", \"(?<=\\. )\", \" \", \"\"]\n",
    ")\n",
    "text = \"\"\"\n",
    "Kaggle is excited to announce the launch of our Cohort 3 of the KaggleX BIPOC Mentorship Program \\\n",
    "    (formerly known as the BIPOC Grant Program). The goal of this program is to increase representation, \\\n",
    "        create career opportunities, and develop individual growth for BIPOC (Black, Indigenous, People of Color) \\\n",
    "    people in the data science industry. \n",
    "This will be achieved through pairing early-career Kagglers with advanced and senior-level mentors, \\\n",
    "    curating a space for career-related discussion and learning opportunities.\n",
    "\n",
    "What is Kaggle?\n",
    "Kaggle (rhymes with “Gaggle”) is the world’s largest data science and machine learning community. \n",
    "More than ten million registered users visit Kaggle to learn, \\\n",
    "    find data, compete, and collaborate on the cutting edge of machine learning. \n",
    "    Kaggle's mission is to help the world learn from data.\n",
    "\"\"\"\n",
    "text_from_text = toy_splitter.split_text(text)\n",
    "vector_db = Chroma.from_texts(text_from_text, embedding=palm_embeddings)\n",
    "\n",
    "vector_db._collection.count()"
   ]
  },
  {
   "cell_type": "code",
   "execution_count": 90,
   "metadata": {},
   "outputs": [
    {
     "name": "stdout",
     "output_type": "stream",
     "text": [
      "[Document(page_content='What is Kaggle?', metadata={}), Document(page_content='Kaggle (rhymes with “Gaggle”) is the world’s largest data science and machine learning community.', metadata={}), Document(page_content=\"Kaggle's mission is to help the world learn from data.\", metadata={})]\n"
     ]
    },
    {
     "name": "stderr",
     "output_type": "stream",
     "text": [
      "/home/mikes/projects/kagglex/.venv/lib/python3.10/site-packages/langchain/chains/llm.py:278: UserWarning: The predict_and_parse method is deprecated, instead pass an output parser directly to LLMChain.\n",
      "  warnings.warn(\n"
     ]
    },
    {
     "name": "stdout",
     "output_type": "stream",
     "text": [
      "[Document(page_content='Kaggle', metadata={}), Document(page_content='Kaggle (rhymes with “Gaggle”) is the world’s largest data science and machine learning community.', metadata={}), Document(page_content=\"Kaggle's mission is to help the world learn from data.\", metadata={}), Document(page_content='Kaggle', metadata={})]\n"
     ]
    }
   ],
   "source": [
    "# Simple retriever\n",
    "question=\"what is kagglex\"\n",
    "docs = vector_db.similarity_search(question, k=3)\n",
    "print(docs)\n",
    "\n",
    "# Contextual compression\n",
    "from langchain.retrievers import ContextualCompressionRetriever\n",
    "from langchain.retrievers.document_compressors import LLMChainExtractor\n",
    "\n",
    "compressor = LLMChainExtractor.from_llm(llm)\n",
    "compression_retriever = ContextualCompressionRetriever(\n",
    "    base_compressor=compressor,\n",
    "    base_retriever=vector_db.as_retriever()\n",
    "    )\n",
    "compressed_docs = compression_retriever.get_relevant_documents(question)\n",
    "print(compressed_docs)"
   ]
  },
  {
   "cell_type": "code",
   "execution_count": 130,
   "metadata": {},
   "outputs": [
    {
     "data": {
      "text/plain": [
       "{'query': 'Who are you?',\n",
       " 'result': 'I am a chatbot that helps people learn about Data Science and Artificial Intelligence.',\n",
       " 'source_documents': [Document(page_content='What is Kaggle?', metadata={}),\n",
       "  Document(page_content='for BIPOC (Black, Indigenous, People of Color)     people in the data science industry.', metadata={}),\n",
       "  Document(page_content='Kaggle (rhymes with “Gaggle”) is the world’s largest data science and machine learning community.', metadata={})]}"
      ]
     },
     "execution_count": 130,
     "metadata": {},
     "output_type": "execute_result"
    }
   ],
   "source": [
    "from langchain.prompts import PromptTemplate\n",
    "\n",
    "# Build prompt\n",
    "template = \"\"\"\n",
    "System: You are a chatbot with knowledge about Data Science and Artificial Intelligence.\n",
    "\n",
    "Assistant: Use the following pieces of context to answer the question from the user. \n",
    "If you don't know the answer, just say that you don't know, don't try to make up an answer. \n",
    "Keep the answer as concise as possible. \n",
    "Context: {context}\n",
    "Question: {question}\n",
    "Helpful Answer:\"\"\"\n",
    "# template = \"\"\"\n",
    "# User: 'What do you know?'\n",
    "\n",
    "# In your response, please provide an overview of your capabilities and how you can assist the user effectively. When answering the question at the end, use the provided context to ensure your responses are concise and context-specific. If you're uncertain, please let the user know you don't have enough information to answer accurately.\n",
    "\n",
    "# Context: {context}\n",
    "# Question: {question}\n",
    "# Your Response: (Provide a concise and context-specific answer)\n",
    "# \"\"\"\n",
    "QA_CHAIN_PROMPT = PromptTemplate.from_template(template)\n",
    "\n",
    "qaChain = RetrievalQA.from_chain_type(\n",
    "    llm,\n",
    "    retriever=vector_db.as_retriever(search_kwargs={'k':3}),\n",
    "    return_source_documents=True,\n",
    "    chain_type_kwargs={\"prompt\": QA_CHAIN_PROMPT}\n",
    ")\n",
    "question=\"Who are you?\"\n",
    "result = qaChain({'query': question})\n",
    "result"
   ]
  },
  {
   "cell_type": "code",
   "execution_count": 51,
   "metadata": {},
   "outputs": [
    {
     "name": "stdout",
     "output_type": "stream",
     "text": [
      "\u001b[0;31mSignature:\u001b[0m\n",
      "\u001b[0mPromptTemplate\u001b[0m\u001b[0;34m.\u001b[0m\u001b[0mfrom_template\u001b[0m\u001b[0;34m(\u001b[0m\u001b[0;34m\u001b[0m\n",
      "\u001b[0;34m\u001b[0m    \u001b[0mtemplate\u001b[0m\u001b[0;34m:\u001b[0m \u001b[0;34m'str'\u001b[0m\u001b[0;34m,\u001b[0m\u001b[0;34m\u001b[0m\n",
      "\u001b[0;34m\u001b[0m    \u001b[0;34m*\u001b[0m\u001b[0;34m,\u001b[0m\u001b[0;34m\u001b[0m\n",
      "\u001b[0;34m\u001b[0m    \u001b[0mtemplate_format\u001b[0m\u001b[0;34m:\u001b[0m \u001b[0;34m'str'\u001b[0m \u001b[0;34m=\u001b[0m \u001b[0;34m'f-string'\u001b[0m\u001b[0;34m,\u001b[0m\u001b[0;34m\u001b[0m\n",
      "\u001b[0;34m\u001b[0m    \u001b[0mpartial_variables\u001b[0m\u001b[0;34m:\u001b[0m \u001b[0;34m'Optional[Dict[str, Any]]'\u001b[0m \u001b[0;34m=\u001b[0m \u001b[0;32mNone\u001b[0m\u001b[0;34m,\u001b[0m\u001b[0;34m\u001b[0m\n",
      "\u001b[0;34m\u001b[0m    \u001b[0;34m**\u001b[0m\u001b[0mkwargs\u001b[0m\u001b[0;34m:\u001b[0m \u001b[0;34m'Any'\u001b[0m\u001b[0;34m,\u001b[0m\u001b[0;34m\u001b[0m\n",
      "\u001b[0;34m\u001b[0m\u001b[0;34m)\u001b[0m \u001b[0;34m->\u001b[0m \u001b[0;34m'PromptTemplate'\u001b[0m\u001b[0;34m\u001b[0m\u001b[0;34m\u001b[0m\u001b[0m\n",
      "\u001b[0;31mDocstring:\u001b[0m\n",
      "Load a prompt template from a template.\n",
      "\n",
      "Args:\n",
      "    template: The template to load.\n",
      "    template_format: The format of the template. Use `jinja2` for jinja2,\n",
      "                     and `f-string` or None for f-strings.\n",
      "    partial_variables: A dictionary of variables that can be used to partially\n",
      "                       fill in the template. For example, if the template is\n",
      "                      `\"{variable1} {variable2}\"`, and `partial_variables` is\n",
      "                      `{\"variable1\": \"foo\"}`, then the final prompt will be\n",
      "                      `\"foo {variable2}\"`.\n",
      "\n",
      "Returns:\n",
      "    The prompt template loaded from the template.\n",
      "\u001b[0;31mFile:\u001b[0m      ~/projects/kagglex/.venv/lib/python3.10/site-packages/langchain/prompts/prompt.py\n",
      "\u001b[0;31mType:\u001b[0m      method"
     ]
    }
   ],
   "source": [
    "PromptTemplate.from_template?"
   ]
  },
  {
   "cell_type": "code",
   "execution_count": null,
   "metadata": {},
   "outputs": [],
   "source": []
  },
  {
   "cell_type": "code",
   "execution_count": null,
   "metadata": {},
   "outputs": [],
   "source": []
  },
  {
   "cell_type": "code",
   "execution_count": null,
   "metadata": {},
   "outputs": [],
   "source": []
  },
  {
   "cell_type": "code",
   "execution_count": null,
   "metadata": {},
   "outputs": [],
   "source": []
  },
  {
   "cell_type": "code",
   "execution_count": null,
   "metadata": {},
   "outputs": [],
   "source": []
  },
  {
   "cell_type": "code",
   "execution_count": null,
   "metadata": {},
   "outputs": [],
   "source": []
  },
  {
   "cell_type": "code",
   "execution_count": null,
   "metadata": {},
   "outputs": [],
   "source": []
  },
  {
   "cell_type": "code",
   "execution_count": null,
   "metadata": {},
   "outputs": [],
   "source": []
  },
  {
   "cell_type": "code",
   "execution_count": 4,
   "metadata": {},
   "outputs": [
    {
     "name": "stdout",
     "output_type": "stream",
     "text": [
      "The folder 'chroma_db' exists in the current working directory. \n",
      " Therefore embeddings were loaded from disk\n"
     ]
    }
   ],
   "source": [
    "## split documents\n",
    "texts = text_splitter.split_documents(documents)\n",
    "\n",
    "persist_directory = \"chroma_db\"\n",
    "\n",
    "# Check if the folder exists in the current working directory\n",
    "if os.path.exists(persist_directory) and os.path.isdir(persist_directory):\n",
    "    print(f\"The folder '{persist_directory}' exists in the current working directory. \\n Therefore embeddings were loaded from disk\")\n",
    "    cdb = Chroma(embedding_function=palm_embeddings, persist_directory=persist_directory)\n",
    "else:\n",
    "    print(f\"The folder '{persist_directory}' does not exist in the current working directory. \\n Therefore new embeddings will be created\")\n",
    "    cdb = Chroma.from_documents(texts, embedding=palm_embeddings, persist_directory=persist_directory)"
   ]
  },
  {
   "cell_type": "code",
   "execution_count": 6,
   "metadata": {},
   "outputs": [
    {
     "name": "stdout",
     "output_type": "stream",
     "text": [
      "1. Stoic people are emotionally detached and unflappable.\n",
      "2. They are able to endure pain or hardship without showing emotion.\n",
      "3. They are not easily upset or disturbed.\n",
      "4. They are calm and composed under pressure.\n",
      "5. They are able to maintain a positive attitude even in difficult times.\n"
     ]
    }
   ],
   "source": [
    "from langchain.prompts import PromptTemplate, ChatPromptTemplate\n",
    "\n",
    "prompt = ChatPromptTemplate.from_template(\n",
    "    \"Write 5 sentences that describe the following word {product}?\"\n",
    ")\n",
    "chain = LLMChain(llm=llm, prompt=prompt)\n",
    "product = \"stoic\"\n",
    "result = chain.run(product)\n",
    "print(result)"
   ]
  },
  {
   "cell_type": "code",
   "execution_count": 124,
   "metadata": {},
   "outputs": [
    {
     "ename": "NameError",
     "evalue": "name 'ChatPromptTemplate' is not defined",
     "output_type": "error",
     "traceback": [
      "\u001b[0;31m---------------------------------------------------------------------------\u001b[0m",
      "\u001b[0;31mNameError\u001b[0m                                 Traceback (most recent call last)",
      "\u001b[1;32m/home/mikes/projects/kagglex/notebook/confluence.ipynb Cell 22\u001b[0m line \u001b[0;36m9\n\u001b[1;32m      <a href='vscode-notebook-cell://wsl%2Bubuntu/home/mikes/projects/kagglex/notebook/confluence.ipynb#X21sdnNjb2RlLXJlbW90ZQ%3D%3D?line=0'>1</a>\u001b[0m \u001b[39m# Build prompt\u001b[39;00m\n\u001b[1;32m      <a href='vscode-notebook-cell://wsl%2Bubuntu/home/mikes/projects/kagglex/notebook/confluence.ipynb#X21sdnNjb2RlLXJlbW90ZQ%3D%3D?line=1'>2</a>\u001b[0m template \u001b[39m=\u001b[39m \u001b[39m\"\"\"\u001b[39m\u001b[39mUse the following pieces of context to answer the question at the end.\u001b[39m\u001b[39m\\\u001b[39;00m\n\u001b[1;32m      <a href='vscode-notebook-cell://wsl%2Bubuntu/home/mikes/projects/kagglex/notebook/confluence.ipynb#X21sdnNjb2RlLXJlbW90ZQ%3D%3D?line=2'>3</a>\u001b[0m \u001b[39mIf you don\u001b[39m\u001b[39m'\u001b[39m\u001b[39mt know the answer given the context, just say that you don\u001b[39m\u001b[39m'\u001b[39m\u001b[39mt know, don\u001b[39m\u001b[39m'\u001b[39m\u001b[39mt try to make up an answer.\u001b[39m\u001b[39m\\\u001b[39;00m\n\u001b[1;32m      <a href='vscode-notebook-cell://wsl%2Bubuntu/home/mikes/projects/kagglex/notebook/confluence.ipynb#X21sdnNjb2RlLXJlbW90ZQ%3D%3D?line=3'>4</a>\u001b[0m \u001b[39mUse three sentences maximum. Keep the answer as concise as possible. \u001b[39m\u001b[39m\\\u001b[39;00m\n\u001b[0;32m   (...)\u001b[0m\n\u001b[1;32m      <a href='vscode-notebook-cell://wsl%2Bubuntu/home/mikes/projects/kagglex/notebook/confluence.ipynb#X21sdnNjb2RlLXJlbW90ZQ%3D%3D?line=6'>7</a>\u001b[0m \u001b[39mQuestion: \u001b[39m\u001b[39m{question}\u001b[39;00m\n\u001b[1;32m      <a href='vscode-notebook-cell://wsl%2Bubuntu/home/mikes/projects/kagglex/notebook/confluence.ipynb#X21sdnNjb2RlLXJlbW90ZQ%3D%3D?line=7'>8</a>\u001b[0m \u001b[39mHelpful Answer:\u001b[39m\u001b[39m\"\"\"\u001b[39m\n\u001b[0;32m----> <a href='vscode-notebook-cell://wsl%2Bubuntu/home/mikes/projects/kagglex/notebook/confluence.ipynb#X21sdnNjb2RlLXJlbW90ZQ%3D%3D?line=8'>9</a>\u001b[0m QA_CHAIN_PROMPT \u001b[39m=\u001b[39m ChatPromptTemplate\u001b[39m.\u001b[39mfrom_template(template)\n\u001b[1;32m     <a href='vscode-notebook-cell://wsl%2Bubuntu/home/mikes/projects/kagglex/notebook/confluence.ipynb#X21sdnNjb2RlLXJlbW90ZQ%3D%3D?line=10'>11</a>\u001b[0m qac \u001b[39m=\u001b[39m RetrievalQA\u001b[39m.\u001b[39mfrom_chain_type(llm, retriever\u001b[39m=\u001b[39mcdb\u001b[39m.\u001b[39mas_retriever(), chain_type_kwargs\u001b[39m=\u001b[39m{\u001b[39m\"\u001b[39m\u001b[39mprompt\u001b[39m\u001b[39m\"\u001b[39m: QA_CHAIN_PROMPT})\n\u001b[1;32m     <a href='vscode-notebook-cell://wsl%2Bubuntu/home/mikes/projects/kagglex/notebook/confluence.ipynb#X21sdnNjb2RlLXJlbW90ZQ%3D%3D?line=11'>12</a>\u001b[0m question \u001b[39m=\u001b[39m \u001b[39m\"\u001b[39m\u001b[39mwhat is ml?\u001b[39m\u001b[39m\"\u001b[39m\n",
      "\u001b[0;31mNameError\u001b[0m: name 'ChatPromptTemplate' is not defined"
     ]
    }
   ],
   "source": [
    "\n",
    "# Build prompt\n",
    "template = \"\"\"Use the following pieces of context to answer the question at the end.\\\n",
    "If you don't know the answer given the context, just say that you don't know, don't try to make up an answer.\\\n",
    "Use three sentences maximum. Keep the answer as concise as possible. \\\n",
    "Always say \"thanks for asking!\" at the end of the answer. \n",
    "context: {context}\n",
    "Question: {question}\n",
    "Helpful Answer:\"\"\"\n",
    "QA_CHAIN_PROMPT = ChatPromptTemplate.from_template(template)\n",
    "\n",
    "qac = RetrievalQA.from_chain_type(llm, retriever=cdb.as_retriever(), chain_type_kwargs={\"prompt\": QA_CHAIN_PROMPT})\n",
    "question = \"what is ml?\"\n",
    "result = qac({\"query\": question})\n",
    "result[\"result\"]"
   ]
  },
  {
   "cell_type": "code",
   "execution_count": 44,
   "metadata": {},
   "outputs": [],
   "source": [
    "condence_prompt_template = \"\"\"Given the following conversation and a follow up question,\n",
    " rephrase the follow up question to be a standalone question, in its original language.\n",
    "\n",
    "Chat History:\n",
    "{chat_history}\n",
    "Follow Up Input: {question}\n",
    "Standalone question:\"\"\"\n",
    "confluence_question_prompt = PromptTemplate.from_template(condence_prompt_template)\n",
    "standalone_prompt_template =\"\"\"\n",
    "System: You are a chatbot with knowledge about Data Science and Artificial Intelligence.\n",
    "\n",
    "Assistant: Use the following pieces of context to answer the question from the user. \n",
    "If you don't know the answer, just say that you don't know, don't try to make up an answer. \n",
    "Keep the answer as concise as possible. \n",
    "Context: {context}\n",
    "Question: {question}\n",
    "Helpful Answer:\"\"\"\n",
    "standalone_question_prompt = PromptTemplate.from_template(standalone_prompt_template)\n",
    "from langchain.memory import ChatMessageHistory, ConversationBufferMemory\n",
    "message_history = ChatMessageHistory()\n",
    "memory = ConversationBufferMemory(\n",
    "    memory_key=\"chat_history\",\n",
    "    output_key=\"answer\",\n",
    "    chat_memory=message_history,\n",
    "    return_messages=True,\n",
    ")\n",
    "qa_chain = ConversationalRetrievalChain.from_llm(llm,\n",
    "                                                  retriever=cdb.as_retriever(),\n",
    "                                                  condense_question_prompt=confluence_question_prompt,\n",
    "                                                  memory=memory,\n",
    "                                                  verbose=True,\n",
    "                                                  return_source_documents=True,\n",
    "                                                  combine_docs_chain_kwargs={\"prompt\":standalone_question_prompt}\n",
    "                                                  )"
   ]
  },
  {
   "cell_type": "code",
   "execution_count": 50,
   "metadata": {},
   "outputs": [
    {
     "name": "stdout",
     "output_type": "stream",
     "text": [
      "\n",
      "\n",
      "\u001b[1m> Entering new LLMChain chain...\u001b[0m\n",
      "Prompt after formatting:\n",
      "\u001b[32;1m\u001b[1;3mGiven the following conversation and a follow up question,\n",
      " rephrase the follow up question to be a standalone question, in its original language.\n",
      "\n",
      "Chat History:\n",
      "\n",
      "Human: what is data\n",
      "Assistant: Data is a collection of facts, figures, or other information in a structured form that can be processed by a computer.\n",
      "Human: what is data science\n",
      "Assistant: Data science is an interdisciplinary field that uses statistics, scientific computing, scientific methods, processes, algorithms and systems to extract or extrapolate knowledge and insights from noisy, structured, and unstructured data.\n",
      "Human: how does data and data science compare?\n",
      "Assistant: Data science is a more comprehensive approach that combines statistical analysis, computational methods, and machine learning to extract insights, build predictive models, and drive data-driven decision-making. Data analysis focuses on extracting insights and drawing conclusions from structured data.\n",
      "Human: what are some exceptional performances of artificial intelligence\n",
      "Assistant: Deep Blue became the first computer chess-playing system to beat a reigning world chess champion, Garry Kasparov, on 11 May 1997.\n",
      "Follow Up Input: can you list up to two cases?\n",
      "Standalone question:\u001b[0m\n",
      "\n",
      "\u001b[1m> Finished chain.\u001b[0m\n",
      "\n",
      "\n",
      "\u001b[1m> Entering new StuffDocumentsChain chain...\u001b[0m\n",
      "\n",
      "\n",
      "\u001b[1m> Entering new LLMChain chain...\u001b[0m\n",
      "Prompt after formatting:\n",
      "\u001b[32;1m\u001b[1;3m\n",
      "System: You are a chatbot with knowledge about Data Science and Artificial Intelligence.\n",
      "\n",
      "Assistant: Use the following pieces of context to answer the question from the user. \n",
      "If you don't know the answer, just say that you don't know, don't try to make up an answer. \n",
      "Keep the answer as concise as possible. \n",
      "Context: iPhoto and TikTok ). There are also thousands of successful AI applications used to solve specific problems for specific industries or institutions. In a 2017 survey, one in five companies reported they had incorporated \"AI\" in some offerings or processes. [126] A few examples are energy storage , [127] medical diagnosis, military logistics, applications that predict the result of judicial decisions, [128] foreign policy , [129] or supply chain management. Game playing programs have been used since the 1950s to demonstrate and test AI's most advanced techniques. Deep Blue became the first computer chess-playing system to beat a reigning world chess champion, Garry Kasparov , on 11 May 1997. [130] In 2011, in a Jeopardy! quiz show exhibition match, IBM 's question answering system , Watson , defeated the two greatest Jeopardy! champions, Brad Rutter and Ken Jennings , by a significant margin. [131] In March 2016, AlphaGo won 4 out of 5 games of Go in a match with Go champion Lee Sedol\n",
      "\n",
      "Artificial intelligence ( AI ) is the intelligence of machines or software, as opposed to the intelligence of humans or animals. It is also the field of study in computer science that develops and studies intelligent machines. \"AI\" may also refer to the machines themselves. AI technology is widely used throughout industry, government and science. Some high-profile applications are: advanced web search engines (e.g., Google Search ), recommendation systems (used by YouTube , Amazon , and Netflix ), understanding human speech (such as Siri and Alexa ), self-driving cars (e.g., Waymo ), generative or creative tools ( ChatGPT and AI art ), and competing at the highest level in strategic games (such as chess and Go ). [1] Artificial intelligence was founded as an academic discipline in 1956. [2] The field went through multiple cycles of optimism [3] [4] followed by disappointment and loss of funding, [5] [6] but after 2012, when deep learning surpassed all previous AI techniques, [7] there\n",
      "\n",
      "[131] In March 2016, AlphaGo won 4 out of 5 games of Go in a match with Go champion Lee Sedol , becoming the first computer Go -playing system to beat a professional Go player without handicaps . [132] Then it defeated Ke Jie in 2017 , who at the time continuously held the world No. 1 ranking for two years. [133] [134] [135] Other programs handle imperfect-information games; such as for poker at a superhuman level, Pluribus [l] and Cepheus . [137] DeepMind in the 2010s developed a \"generalized artificial intelligence\" that could learn many diverse Atari games on its own. [138] In the early 2020s, generative AI gained widespread prominence. ChatGPT , based on GPT-3 , and other large language models , were tried by 14% of Americans adults. [139] The increasing realism and ease-of-use of AI-based text-to-image generators such as Midjourney , DALL-E , and Stable Diffusion [140] [141] sparked a trend of viral AI-generated photos. Widespread attention was gained by a fake photo of Pope\n",
      "\n",
      "sentiment analysis , wherein AI classifies the affects displayed by a videotaped subject. [64] General intelligence A machine with artificial general intelligence should be able to solve a wide variety of problems with breadth and versatility similar to human intelligence. [8]\n",
      "Question: Can you list up to two cases of exceptional performances of artificial intelligence?\n",
      "Helpful Answer:\u001b[0m\n",
      "\n",
      "\u001b[1m> Finished chain.\u001b[0m\n",
      "\n",
      "\u001b[1m> Finished chain.\u001b[0m\n",
      "Answer: Two examples of exceptional performances of artificial intelligence are:\n",
      "\n",
      "* AlphaGo's victory over Go champion Lee Sedol in 2016, which marked the first time a computer program had beaten a professional Go player without handicaps.\n",
      "* DeepMind's development of a \"generalized artificial intelligence\" that could learn many diverse Atari games on its own in the 2010s.\n"
     ]
    }
   ],
   "source": [
    "query=\"can you list up to two cases?\"\n",
    "result = qa_chain({\"question\":query})\n",
    "print(f\"Answer: \" + result[\"answer\"])\n"
   ]
  },
  {
   "cell_type": "code",
   "execution_count": null,
   "metadata": {},
   "outputs": [],
   "source": []
  }
 ],
 "metadata": {
  "kernelspec": {
   "display_name": "kagglex",
   "language": "python",
   "name": "python3"
  },
  "language_info": {
   "codemirror_mode": {
    "name": "ipython",
    "version": 3
   },
   "file_extension": ".py",
   "mimetype": "text/x-python",
   "name": "python",
   "nbconvert_exporter": "python",
   "pygments_lexer": "ipython3",
   "version": "3.10.12"
  },
  "orig_nbformat": 4
 },
 "nbformat": 4,
 "nbformat_minor": 2
}
