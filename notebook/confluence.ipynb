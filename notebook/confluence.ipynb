{
 "cells": [
  {
   "cell_type": "code",
   "execution_count": 2,
   "metadata": {},
   "outputs": [
    {
     "data": {
      "text/plain": [
       "True"
      ]
     },
     "execution_count": 2,
     "metadata": {},
     "output_type": "execute_result"
    }
   ],
   "source": [
    "import os\n",
    "import requests\n",
    "from dotenv import load_dotenv\n",
    "from langchain.document_loaders import ConfluenceLoader\n",
    "from langchain.text_splitter import RecursiveCharacterTextSplitter\n",
    "from langchain.vectorstores import Chroma\n",
    "from langchain.embeddings import HuggingFaceEmbeddings, GooglePalmEmbeddings\n",
    "from langchain.chains.question_answering import load_qa_chain\n",
    "from langchain.llms import GooglePalm\n",
    "from langchain.chains import ConversationalRetrievalChain\n",
    "\n",
    "load_dotenv()"
   ]
  },
  {
   "cell_type": "code",
   "execution_count": 6,
   "metadata": {},
   "outputs": [],
   "source": [
    "# Set your Confluence URL, email, and API token\n",
    "confluence_url = \"https://mikesofts.atlassian.net/\"\n",
    "email = os.environ['EMAIL']\n"
   ]
  },
  {
   "cell_type": "code",
   "execution_count": 7,
   "metadata": {},
   "outputs": [],
   "source": [
    "CONFLUENCE_API_TOKEN = os.environ['CONFLUENCE_API_TOKEN']\n",
    "GOOGLE_PALM_API_KEY = os.environ['GOOGLE_PALM_API_KEY']\n",
    "# Define your Confluence API URL\n",
    "base_url = \"https://mikesofts.atlassian.net/wiki/rest/api\"\n",
    "\n",
    "# Create a session for authentication\n",
    "session = requests.Session()\n",
    "session.auth = (email, CONFLUENCE_API_TOKEN)"
   ]
  },
  {
   "cell_type": "code",
   "execution_count": 8,
   "metadata": {},
   "outputs": [],
   "source": [
    "## get documents from confluence\n",
    "loader = ConfluenceLoader(\n",
    "    url=f\"{confluence_url}wiki\", username=email, api_key=CONFLUENCE_API_TOKEN, \n",
    ")\n",
    "\n",
    "documents = loader.load(space_key=\"~614914d4071141006ab46038\", limit=50)"
   ]
  },
  {
   "cell_type": "code",
   "execution_count": 9,
   "metadata": {},
   "outputs": [],
   "source": [
    "llm = GooglePalm(google_api_key=os.environ[\"GOOGLE_PALM_API_KEY\"], temperature = 0.1)\n",
    "palm_embeddings = GooglePalmEmbeddings(google_api_key=os.environ[\"GOOGLE_PALM_API_KEY\"])\n",
    "hf_embeddings = HuggingFaceEmbeddings(model_name=\"all-MiniLM-L6-v2\")"
   ]
  },
  {
   "cell_type": "code",
   "execution_count": 10,
   "metadata": {},
   "outputs": [
    {
     "name": "stdout",
     "output_type": "stream",
     "text": [
      "The folder 'chroma_db' does not exist in the current working directory. \n",
      " Therefore new embeddings will be created\n"
     ]
    }
   ],
   "source": [
    "## split documents\n",
    "text_splitter = RecursiveCharacterTextSplitter(\n",
    "    chunk_size = 1000,\n",
    "    chunk_overlap  = 100,\n",
    "    length_function = len,\n",
    "    add_start_index = True,\n",
    "    separators=[\" \", \"\\n\", '.', \",\"]\n",
    ")\n",
    "texts = text_splitter.split_documents(documents)\n",
    "\n",
    "persist_directory = \"chroma_db\"\n",
    "\n",
    "# Check if the folder exists in the current working directory\n",
    "if os.path.exists(persist_directory) and os.path.isdir(persist_directory):\n",
    "    print(f\"The folder '{persist_directory}' exists in the current working directory. \\n Therefore embeddings were loaded from disk\")\n",
    "    cdb = Chroma(embedding_function=hf_embeddings, persist_directory=persist_directory)\n",
    "else:\n",
    "    print(f\"The folder '{persist_directory}' does not exist in the current working directory. \\n Therefore new embeddings will be created\")\n",
    "    cdb = Chroma.from_documents(texts, embedding=hf_embeddings, persist_directory=persist_directory)\n"
   ]
  },
  {
   "cell_type": "code",
   "execution_count": 11,
   "metadata": {},
   "outputs": [],
   "source": [
    "qa_chain = ConversationalRetrievalChain.from_llm(llm, retriever=cdb.as_retriever(),verbose=False,return_source_documents=True)\n",
    "chat_history=[]"
   ]
  },
  {
   "cell_type": "code",
   "execution_count": 13,
   "metadata": {},
   "outputs": [
    {
     "name": "stdout",
     "output_type": "stream",
     "text": [
      "Answer: Data science is a complex field that requires a wide range of skills, including statistics, programming, and data visualization. As such, it can be difficult for people to become proficient in data science without the proper training and experience. Some of the barriers to becoming proficient in data science include:\n",
      "\n",
      "* **Lack of educational resources.** There are a limited number of educational resources available for people who want to learn data science. This can make it difficult for people to find the training they need to become proficient in the field.\n",
      "* **High cost of education.** The cost of education can be a barrier to entry for many people who want to learn data science. This is especially true for people who are not able to afford to attend a traditional university or college.\n",
      "* **Lack of experience.** Data science is a field that is constantly evolving, and it can be difficult for people to keep up with the latest trends and technologies. This can make it difficult for people to find jobs in data science without the proper experience.\n",
      "* **Lack of mentorship.** Mentorship can be an important part of learning data science. However, it can be difficult for people to find mentors who are willing to help them learn the field.\n",
      "* **Lack of confidence.** Data science is a complex field, and it can be easy for people to feel overwhelmed and discouraged. This can make it difficult for people to stay motivated and continue learning.\n"
     ]
    }
   ],
   "source": [
    "query=\"what are some barriers to becoming proficient in data science\"\n",
    "result = qa_chain({\"question\":query, \"chat_history\":chat_history})\n",
    "print(f\"Answer: \" + result[\"answer\"])\n",
    "chat_history.append((query, result[\"answer\"]))"
   ]
  }
 ],
 "metadata": {
  "kernelspec": {
   "display_name": "kagglex",
   "language": "python",
   "name": "python3"
  },
  "language_info": {
   "codemirror_mode": {
    "name": "ipython",
    "version": 3
   },
   "file_extension": ".py",
   "mimetype": "text/x-python",
   "name": "python",
   "nbconvert_exporter": "python",
   "pygments_lexer": "ipython3",
   "version": "3.10.12"
  },
  "orig_nbformat": 4
 },
 "nbformat": 4,
 "nbformat_minor": 2
}
